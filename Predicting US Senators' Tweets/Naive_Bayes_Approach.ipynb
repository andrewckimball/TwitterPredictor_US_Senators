{
  "nbformat": 4,
  "nbformat_minor": 0,
  "metadata": {
    "colab": {
      "name": "Naive Bayes Approach.ipynb",
      "provenance": [],
      "collapsed_sections": []
    },
    "interpreter": {
      "hash": "31f2aee4e71d21fbe5cf8b01ff0e069b9275f58929596ceb00d14d90e3e16cd6"
    },
    "kernelspec": {
      "display_name": "Python 3.8.9 64-bit",
      "language": "python",
      "name": "python3"
    },
    "language_info": {
      "codemirror_mode": {
        "name": "ipython",
        "version": 3
      },
      "file_extension": ".py",
      "mimetype": "text/x-python",
      "name": "python",
      "nbconvert_exporter": "python",
      "pygments_lexer": "ipython3",
      "version": "3.8.9"
    }
  },
  "cells": [
    {
      "cell_type": "code",
      "metadata": {
        "colab": {
          "base_uri": "https://localhost:8080/"
        },
        "id": "CbpJzSIgaLf-",
        "outputId": "1014bc97-9904-428c-f846-877d7b19100b"
      },
      "source": [
        "from collections import Counter\n",
        "import nltk\n",
        "nltk.download('stopwords')\n",
        "from nltk.corpus import stopwords\n",
        "import requests\n",
        "import json\n",
        "import pandas as pd\n",
        "import numpy as np\n",
        "import time"
      ],
      "execution_count": null,
      "outputs": [
        {
          "output_type": "stream",
          "name": "stdout",
          "text": [
            "[nltk_data] Downloading package stopwords to /root/nltk_data...\n",
            "[nltk_data]   Unzipping corpora/stopwords.zip.\n"
          ]
        }
      ]
    },
    {
      "cell_type": "markdown",
      "metadata": {
        "id": "1APeyblnaLf4"
      },
      "source": [
        "# Naive Bayes - Restructuring Data"
      ]
    },
    {
      "cell_type": "code",
      "metadata": {
        "id": "xuK3hQg_aLgB"
      },
      "source": [
        "# Get list of all 100 senators\n",
        "from bs4 import BeautifulSoup\n",
        "import requests\n",
        "\n",
        "url = 'https://www.socialseer.com/resources/us-senator-twitter-accounts/'\n",
        "req = requests.get(url)\n",
        "html = req.text\n",
        "soup = BeautifulSoup(html, 'html.parser')\n",
        "\n",
        "# Get twitter handles\n",
        "body = soup.find('tbody')\n",
        "td = body.find('td')\n",
        "children = body.findChildren(recursive=False)\n",
        "twitter_handles = []\n",
        "\n",
        "# Loop through children\n",
        "for child in children:\n",
        "  if child.a:\n",
        "    twitter_handles.append(child.a.text)\n",
        "\n",
        "# Removing senators who no longer are in senate, or who changed their handles senatorsanders\n",
        "remove = ['SenKamalaHarris', 'SenBennetCO', 'JeffFlake', 'SenJonKyl', 'SenateMajLdr', 'SenDougJones', 'senatorsanders']\n",
        "twitter_handles = [keep for keep in twitter_handles if keep not in remove]\n",
        "twitter_handles.extend(['SenatorBennet', 'AlexPadilla4CA', 'SenatorSinema', 'SenMarkKelly', 'LeaderMcConnell', 'SenTuberville', 'BernieSanders'])"
      ],
      "execution_count": null,
      "outputs": []
    },
    {
      "cell_type": "code",
      "metadata": {
        "id": "zwj36NBxaLgC"
      },
      "source": [
        "# Get user id of each senator's username\n",
        "\n",
        "bearer_token = 'AAAAAAAAAAAAAAAAAAAAAKWfUAEAAAAAVlRCaBC9G2XcfK12sEaYBSFMQFo%3D2Ras8AORAGYkWjjjZpicOkZWBShWS96mk74MFTDi6zYZLzqKAj'\n",
        "headers = {'Authorization':('Bearer '+ bearer_token)}\n",
        "\n",
        "def get_user_data(username):\n",
        "  url = \"https://api.twitter.com/2/users/by/username/\" + username\n",
        "  response = requests.request(\"GET\", url, headers=headers)\n",
        "  json_data_test = json.loads(response.text)\n",
        "  print(json_data_test)\n",
        "  return json_data_test['data']"
      ],
      "execution_count": null,
      "outputs": []
    },
    {
      "cell_type": "code",
      "metadata": {
        "id": "gDL3m7YjjAOh"
      },
      "source": [
        "# Get user id of each senator's username\n",
        "\n",
        "# bearer_token = 'AAAAAAAAAAAAAAAAAAAAAKWfUAEAAAAAVlRCaBC9G2XcfK12sEaYBSFMQFo%3D2Ras8AORAGYkWjjjZpicOkZWBShWS96mk74MFTDi6zYZLzqKAj'\n",
        "# headers = {'Authorization':('Bearer '+ bearer_token)}\n",
        "\n",
        "def get_user_data(username):\n",
        "  url = \"https://api.twitter.com/2/users/by/username/\" + username\n",
        "  response = requests.request(\"GET\", url, headers=headers)\n",
        "  json_data_test = json.loads(response.text)\n",
        "  print(json_data_test)\n",
        "\n",
        "  return json_data_test['data']"
      ],
      "execution_count": null,
      "outputs": []
    },
    {
      "cell_type": "code",
      "metadata": {
        "id": "WYgncooEaLgD"
      },
      "source": [
        "# Get tweets \n",
        "def get_tweets_new(username):\n",
        "  user_data = get_user_data(username)\n",
        "  bearer_token = 'AAAAAAAAAAAAAAAAAAAAAKWfUAEAAAAAVlRCaBC9G2XcfK12sEaYBSFMQFo%3D2Ras8AORAGYkWjjjZpicOkZWBShWS96mk74MFTDi6zYZLzqKAj'\n",
        "  headers = {'Authorization':('Bearer '+ bearer_token)}\n",
        "\n",
        "  n = 5                        \n",
        "  max_results = 100               \n",
        "  total_retrieved = 0               \n",
        "  next_token = \"\"        \n",
        "  json_data = {'data': []}     \n",
        "\n",
        "  df = pd.DataFrame(columns=['id', 'text', 'retweets', 'likes', 'replies', 'quotes', 'day_week', 'time_day', 'author_name'])    \n",
        "  df.set_index('id', inplace=True)  \n",
        "\n",
        "  # Gathering tweets\n",
        "  while total_retrieved < n:\n",
        "\n",
        "    if next_token == \"\":\n",
        "      url = f\"https://api.twitter.com/2/users/{user_data['id']}/tweets?exclude=retweets,replies&max_results={max_results}\"\n",
        "    else:\n",
        "      url = f\"https://api.twitter.com/2/users/{user_data['id']}/tweets?exclude=retweets,replies&max_results={max_results}&pagination_token={next_token}\"\n",
        "\n",
        "    # Extra paramteres\n",
        "    url += f\"&tweet.fields=public_metrics,created_at\"\n",
        "    \n",
        "    # Make request to Twitter API enpoint - returns json object\n",
        "    response = requests.request(\"GET\", url, headers=headers)\n",
        "    try:\n",
        "      json_data = json.loads(response.text)\n",
        "\n",
        "      for tweet in json_data['data']:\n",
        "        tweet_id = tweet['id']\n",
        "        text = tweet['text']\n",
        "        retweet_count = tweet['public_metrics']['retweet_count']\n",
        "        like_count = tweet['public_metrics']['like_count']\n",
        "        reply_count = tweet['public_metrics']['reply_count']\n",
        "        quote_count = tweet['public_metrics']['quote_count']\n",
        "        day_week = tweet['created_at'][10]\n",
        "        hour_day = tweet['created_at'][11:13]\n",
        "        name = user_data['username']\n",
        "        df.loc[tweet_id] = [text, retweet_count, like_count, reply_count, quote_count, day_week, hour_day, name]\n",
        "\n",
        "      try:\n",
        "        next_token = json_data['meta']['next_token']  # Retreive next_token in order to loop through more than 100 tweets at a time\n",
        "      except:\n",
        "        break\n",
        "        \n",
        "      total_retrieved += 1\n",
        "    \n",
        "    except:\n",
        "      print(response.text)\n",
        "      time.sleep(60)\n",
        "\n",
        "  return df"
      ],
      "execution_count": null,
      "outputs": []
    },
    {
      "cell_type": "code",
      "metadata": {
        "colab": {
          "base_uri": "https://localhost:8080/",
          "height": 1000
        },
        "id": "YSYsKK1baLgE",
        "outputId": "7de440a8-a6ea-45d5-f5e2-a141cb8e7fd2"
      },
      "source": [
        "dataframe = [get_tweets_new(handle) for handle in twitter_handles]  \n",
        "df = pd.concat(dataframe)\n",
        "df.head()"
      ],
      "execution_count": null,
      "outputs": [
        {
          "output_type": "stream",
          "name": "stdout",
          "text": [
            "{'data': {'id': '21111098', 'name': 'Richard Shelby', 'username': 'SenShelby'}}\n",
            "{'data': {'id': '18061669', 'name': 'Sen. Lisa Murkowski', 'username': 'lisamurkowski'}}\n",
            "{'data': {'id': '2891210047', 'name': 'Sen. Dan Sullivan', 'username': 'SenDanSullivan'}}\n",
            "{'data': {'id': '968650362', 'name': 'Tom Cotton', 'username': 'SenTomCotton'}}\n",
            "{'data': {'id': '5558312', 'name': 'Senator John Boozman', 'username': 'JohnBoozman'}}\n",
            "{'data': {'id': '476256944', 'name': 'Senator Dianne Feinstein', 'username': 'SenFeinstein'}}\n",
            "{'data': {'id': '235217558', 'name': 'Cory Gardner', 'username': 'SenCoryGardner'}}\n",
            "{'data': {'id': '150078976', 'name': 'Chris Murphy', 'username': 'ChrisMurphyCT'}}\n",
            "{'data': {'id': '278124059', 'name': 'Richard Blumenthal', 'username': 'SenBlumenthal'}}\n",
            "{'data': {'id': '249787913', 'name': 'Senator Tom Carper', 'username': 'SenatorCarper'}}\n",
            "{'data': {'id': '15324851', 'name': 'Senator Chris Coons', 'username': 'ChrisCoons'}}\n",
            "{'data': {'id': '20597460', 'name': 'Bill Nelson', 'username': 'SenBillNelson'}}\n",
            "{'data': {'id': '15745368', 'name': 'Marco Rubio', 'username': 'marcorubio'}}\n",
            "{'data': {'id': '2863210809', 'name': 'David Perdue', 'username': 'sendavidperdue'}}\n",
            "{'data': {'id': '78403308', 'name': 'Johnny Isakson', 'username': 'SenatorIsakson'}}\n",
            "{'data': {'id': '47747074', 'name': 'Brian Schatz', 'username': 'brianschatz'}}\n",
            "{'data': {'id': '92186819', 'name': 'Senator Mazie Hirono', 'username': 'maziehirono'}}\n",
            "{'data': {'id': '600463589', 'name': 'Senator Mike Crapo', 'username': 'MikeCrapo'}}\n",
            "{'data': {'id': '1096059529', 'name': 'Jim Risch', 'username': 'SenatorRisch'}}\n",
            "{'data': {'id': '1058520120', 'name': 'Tammy Duckworth', 'username': 'SenDuckworth'}}\n",
            "{'data': {'id': '247334603', 'name': 'Senator Dick Durbin', 'username': 'SenatorDurbin'}}\n",
            "{'data': {'id': '216503958', 'name': 'Archive: Senator Joe Donnelly', 'username': 'SenDonnelly'}}\n",
            "{'data': {'id': '234128524', 'name': 'Senator Todd Young', 'username': 'SenToddYoung'}}\n",
            "{'data': {'id': '10615232', 'name': 'ChuckGrassley', 'username': 'ChuckGrassley'}}\n",
            "{'data': {'id': '1383059977', 'name': 'Joni Ernst', 'username': 'joniernst'}}\n",
            "{'data': {'id': '75364211', 'name': 'Senator Pat Roberts', 'username': 'SenPatRoberts'}}\n",
            "{'data': {'id': '18632666', 'name': 'Senator Jerry Moran', 'username': 'JerryMoran'}}\n",
            "{'data': {'id': '216881337', 'name': 'Senator Rand Paul', 'username': 'RandPaul'}}\n",
            "{'data': {'id': '55677432', 'name': 'Bill Cassidy, M.D.', 'username': 'BillCassidy'}}\n",
            "{'data': {'id': '816683274076614656', 'name': 'John Kennedy', 'username': 'SenJohnKennedy'}}\n",
            "{'data': {'id': '1068481578', 'name': 'Senator Angus King', 'username': 'SenAngusKing'}}\n",
            "{'data': {'id': '19726613', 'name': 'Sen. Susan Collins', 'username': 'SenatorCollins'}}\n",
            "{'data': {'id': '18137749', 'name': 'Senator Chris Van Hollen', 'username': 'ChrisVanHollen'}}\n",
            "{'data': {'id': '109071031', 'name': 'Senator Ben Cardin', 'username': 'SenatorCardin'}}\n",
            "{'data': {'id': '21406834', 'name': 'Ed Markey', 'username': 'SenMarkey'}}\n",
            "{'data': {'id': '970207298', 'name': 'Elizabeth Warren', 'username': 'SenWarren'}}\n",
            "{'data': {'id': '236511574', 'name': 'Senator Gary Peters', 'username': 'SenGaryPeters'}}\n",
            "{'data': {'id': '76456274', 'name': 'Sen. Debbie Stabenow', 'username': 'SenStabenow'}}\n",
            "{'data': {'id': '33537967', 'name': 'Amy Klobuchar', 'username': 'amyklobuchar'}}\n",
            "{'data': {'id': '941000686275387392', 'name': 'Senator Tina Smith', 'username': 'SenTinaSmith'}}\n",
            "{'data': {'id': '983348251972816896', 'name': 'U.S. Senator Cindy Hyde-Smith', 'username': 'SenHydeSmith'}}\n",
            "{'data': {'id': '264219447', 'name': 'Senator Roger Wicker', 'username': 'SenatorWicker'}}\n",
            "{'data': {'id': '16160352', 'name': 'Claire McCaskill', 'username': 'clairecmc'}}\n",
            "{'data': {'id': '21269970', 'name': 'Senator Roy Blunt', 'username': 'RoyBlunt'}}\n",
            "{'data': {'id': '11651202', 'name': 'Steve Daines', 'username': 'SteveDaines'}}\n",
            "{'data': {'id': '515822213', 'name': 'Senator Jon Tester', 'username': 'SenatorTester'}}\n",
            "{'data': {'id': '1071402577', 'name': 'Senator Deb Fischer', 'username': 'SenatorFischer'}}\n",
            "{'data': {'id': '1480852568', 'name': 'Ben Sasse', 'username': 'BenSasse'}}\n",
            "{'data': {'id': '811313565760163844', 'name': 'Senator Cortez Masto', 'username': 'SenCortezMasto'}}\n",
            "{'data': {'id': '266133081', 'name': 'Dean Heller', 'username': 'SenDeanHeller'}}\n",
            "{'data': {'id': '109287731', 'name': 'Sen. Jeanne Shaheen', 'username': 'SenatorShaheen'}}\n",
            "{'data': {'id': '946549322', 'name': 'Sen. Maggie Hassan', 'username': 'SenatorHassan'}}\n",
            "{'data': {'id': '15808765', 'name': 'Cory Booker', 'username': 'CoryBooker'}}\n",
            "{'data': {'id': '18695134', 'name': 'Senator Bob Menendez', 'username': 'SenatorMenendez'}}\n",
            "{'data': {'id': '1099199839', 'name': 'Martin Heinrich', 'username': 'MartinHeinrich'}}\n",
            "{'data': {'id': '60828944', 'name': 'Archive: Senator Tom Udall', 'username': 'SenatorTomUdall'}}\n",
            "{'data': {'id': '17494010', 'name': 'Chuck Schumer', 'username': 'SenSchumer'}}\n",
            "{'data': {'id': '72198806', 'name': 'Kirsten Gillibrand', 'username': 'SenGillibrand'}}\n",
            "{'data': {'id': '21157904', 'name': 'Richard Burr', 'username': 'SenatorBurr'}}\n",
            "{'data': {'id': '2964174789', 'name': 'Senator Thom Tillis', 'username': 'SenThomTillis'}}\n",
            "{'data': {'id': '1061029050', 'name': 'Archive: Sen. Heidi Heitkamp', 'username': 'SenatorHeitkamp'}}\n",
            "{'data': {'id': '382791093', 'name': 'Senator John Hoeven', 'username': 'SenJohnHoeven'}}\n",
            "{'data': {'id': '43910797', 'name': 'Sherrod Brown', 'username': 'SenSherrodBrown'}}\n",
            "{'data': {'id': '18915145', 'name': 'Rob Portman', 'username': 'senrobportman'}}\n",
            "{'data': {'id': '7270292', 'name': 'Sen. Jim Inhofe', 'username': 'JimInhofe'}}\n",
            "{'data': {'id': '225921757', 'name': 'Sen. James Lankford', 'username': 'SenatorLankford'}}\n",
            "{'data': {'id': '250188760', 'name': 'Ron Wyden', 'username': 'RonWyden'}}\n",
            "{'data': {'id': '29201047', 'name': 'Senator Jeff Merkley', 'username': 'SenJeffMerkley'}}\n",
            "{'data': {'id': '171598736', 'name': 'Senator Bob Casey', 'username': 'SenBobCasey'}}\n",
            "{'data': {'id': '221162525', 'name': 'Senator Pat Toomey', 'username': 'SenToomey'}}\n",
            "{'data': {'id': '486694111', 'name': 'Senator Jack Reed', 'username': 'SenJackReed'}}\n",
            "{'data': {'id': '242555999', 'name': 'Sheldon Whitehouse', 'username': 'SenWhitehouse'}}\n",
            "{'data': {'id': '14845376', 'name': 'Lindsey Graham', 'username': 'GrahamBlog'}}\n",
            "{'data': {'id': '217543151', 'name': 'Tim Scott', 'username': 'SenatorTimScott'}}\n",
            "{'data': {'id': '2955485182', 'name': 'Senator Mike Rounds', 'username': 'SenatorRounds'}}\n",
            "{'data': {'id': '296361085', 'name': 'Senator John Thune', 'username': 'SenJohnThune'}}\n",
            "{'data': {'id': '76649729', 'name': 'Lamar Alexander', 'username': 'SenAlexander'}}\n",
            "{'data': {'id': '283130017', 'name': 'Bob Corker', 'username': 'BobCorker'}}\n",
            "{'data': {'id': '13218102', 'name': 'Senator John Cornyn', 'username': 'JohnCornyn'}}\n",
            "{'data': {'id': '1074480192', 'name': 'Senator Ted Cruz', 'username': 'SenTedCruz'}}\n",
            "{'data': {'id': '262756641', 'name': 'Senator Hatch Office', 'username': 'senorrinhatch'}}\n",
            "{'data': {'id': '88784440', 'name': 'Mike Lee', 'username': 'SenMikeLee'}}\n",
            "{'data': {'id': '242836537', 'name': 'Sen. Patrick Leahy', 'username': 'SenatorLeahy'}}\n",
            "{'data': {'id': '946946130', 'name': 'Sen. Bernie Sanders', 'username': 'senatorsanders'}}\n",
            "{'data': {'id': '172858784', 'name': 'Tim Kaine', 'username': 'timkaine'}}\n",
            "{'data': {'id': '7429102', 'name': 'Mark Warner', 'username': 'MarkWarner'}}\n",
            "{'data': {'id': '293131808', 'name': 'Senator Patty Murray', 'username': 'PattyMurray'}}\n",
            "{'data': {'id': '117501995', 'name': 'Sen. Maria Cantwell', 'username': 'SenatorCantwell'}}\n",
            "{'data': {'id': '193794406', 'name': 'Shelley Moore Capito', 'username': 'SenCapito'}}\n",
            "{'data': {'id': '234374703', 'name': 'Senator Joe Manchin', 'username': 'Sen_JoeManchin'}}\n",
            "{'data': {'id': '1074518754', 'name': 'Sen. Tammy Baldwin', 'username': 'SenatorBaldwin'}}\n",
            "{'data': {'id': '233737858', 'name': 'Senator Ron Johnson', 'username': 'SenRonJohnson'}}\n",
            "{'data': {'id': '291756142', 'name': 'Mike Enzi', 'username': 'SenatorEnzi'}}\n",
            "{'data': {'id': '202206694', 'name': 'Sen. John Barrasso', 'username': 'SenJohnBarrasso'}}\n",
            "{'data': {'id': '224285242', 'name': 'Michael Bennet', 'username': 'SenatorBennet'}}\n",
            "{'data': {'id': '82489457', 'name': 'Alex Padilla', 'username': 'AlexPadilla4CA'}}\n",
            "{'data': {'id': '1080844782', 'name': 'Kyrsten Sinema', 'username': 'SenatorSinema'}}\n",
            "{'data': {'id': '1324926274888888320', 'name': 'Senator Mark Kelly', 'username': 'SenMarkKelly'}}\n",
            "{'data': {'id': '1249982359', 'name': 'Leader McConnell', 'username': 'LeaderMcConnell'}}\n",
            "{'data': {'id': '1345739193721487362', 'name': 'Coach Tommy Tuberville', 'username': 'SenTuberville'}}\n",
            "{'data': {'id': '216776631', 'name': 'Bernie Sanders', 'username': 'BernieSanders'}}\n"
          ]
        },
        {
          "output_type": "execute_result",
          "data": {
            "text/html": [
              "<div>\n",
              "<style scoped>\n",
              "    .dataframe tbody tr th:only-of-type {\n",
              "        vertical-align: middle;\n",
              "    }\n",
              "\n",
              "    .dataframe tbody tr th {\n",
              "        vertical-align: top;\n",
              "    }\n",
              "\n",
              "    .dataframe thead th {\n",
              "        text-align: right;\n",
              "    }\n",
              "</style>\n",
              "<table border=\"1\" class=\"dataframe\">\n",
              "  <thead>\n",
              "    <tr style=\"text-align: right;\">\n",
              "      <th></th>\n",
              "      <th>text</th>\n",
              "      <th>retweets</th>\n",
              "      <th>likes</th>\n",
              "      <th>replies</th>\n",
              "      <th>quotes</th>\n",
              "      <th>day_week</th>\n",
              "      <th>time_day</th>\n",
              "      <th>author_name</th>\n",
              "    </tr>\n",
              "    <tr>\n",
              "      <th>id</th>\n",
              "      <th></th>\n",
              "      <th></th>\n",
              "      <th></th>\n",
              "      <th></th>\n",
              "      <th></th>\n",
              "      <th></th>\n",
              "      <th></th>\n",
              "      <th></th>\n",
              "    </tr>\n",
              "  </thead>\n",
              "  <tbody>\n",
              "    <tr>\n",
              "      <th>1467561104683511813</th>\n",
              "      <td>I am very saddened to learn of the passing of ...</td>\n",
              "      <td>8</td>\n",
              "      <td>39</td>\n",
              "      <td>4</td>\n",
              "      <td>0</td>\n",
              "      <td>T</td>\n",
              "      <td>18</td>\n",
              "      <td>SenShelby</td>\n",
              "    </tr>\n",
              "    <tr>\n",
              "      <th>1466477912450818055</th>\n",
              "      <td>Despite the crisis at our southern border, Pre...</td>\n",
              "      <td>10</td>\n",
              "      <td>29</td>\n",
              "      <td>29</td>\n",
              "      <td>0</td>\n",
              "      <td>T</td>\n",
              "      <td>18</td>\n",
              "      <td>SenShelby</td>\n",
              "    </tr>\n",
              "    <tr>\n",
              "      <th>1465404007044816897</th>\n",
              "      <td>Congratulations to @UofAlabama’s Nicholas Haye...</td>\n",
              "      <td>2</td>\n",
              "      <td>17</td>\n",
              "      <td>3</td>\n",
              "      <td>0</td>\n",
              "      <td>T</td>\n",
              "      <td>19</td>\n",
              "      <td>SenShelby</td>\n",
              "    </tr>\n",
              "    <tr>\n",
              "      <th>1463901898424082443</th>\n",
              "      <td>Happy #Thanksgiving! Today and every day I am ...</td>\n",
              "      <td>5</td>\n",
              "      <td>21</td>\n",
              "      <td>8</td>\n",
              "      <td>0</td>\n",
              "      <td>T</td>\n",
              "      <td>16</td>\n",
              "      <td>SenShelby</td>\n",
              "    </tr>\n",
              "    <tr>\n",
              "      <th>1463216831800430599</th>\n",
              "      <td>This $32M @USDA investment is excellent news f...</td>\n",
              "      <td>1</td>\n",
              "      <td>5</td>\n",
              "      <td>10</td>\n",
              "      <td>1</td>\n",
              "      <td>T</td>\n",
              "      <td>18</td>\n",
              "      <td>SenShelby</td>\n",
              "    </tr>\n",
              "  </tbody>\n",
              "</table>\n",
              "</div>"
            ],
            "text/plain": [
              "                                                                  text  ... author_name\n",
              "id                                                                      ...            \n",
              "1467561104683511813  I am very saddened to learn of the passing of ...  ...   SenShelby\n",
              "1466477912450818055  Despite the crisis at our southern border, Pre...  ...   SenShelby\n",
              "1465404007044816897  Congratulations to @UofAlabama’s Nicholas Haye...  ...   SenShelby\n",
              "1463901898424082443  Happy #Thanksgiving! Today and every day I am ...  ...   SenShelby\n",
              "1463216831800430599  This $32M @USDA investment is excellent news f...  ...   SenShelby\n",
              "\n",
              "[5 rows x 8 columns]"
            ]
          },
          "metadata": {},
          "execution_count": 7
        }
      ]
    },
    {
      "cell_type": "code",
      "metadata": {
        "colab": {
          "base_uri": "https://localhost:8080/"
        },
        "id": "237yDTO6sbNf",
        "outputId": "89575932-376e-459f-ef6b-91f6210b9dff"
      },
      "source": [
        "df.shape"
      ],
      "execution_count": null,
      "outputs": [
        {
          "data": {
            "text/plain": [
              "(48625, 8)"
            ]
          },
          "execution_count": 44,
          "metadata": {},
          "output_type": "execute_result"
        }
      ]
    },
    {
      "cell_type": "code",
      "metadata": {
        "id": "M89UTCI5aLgE"
      },
      "source": [
        "df.to_csv('./text_all_senators_updated.csv')"
      ],
      "execution_count": null,
      "outputs": []
    },
    {
      "cell_type": "markdown",
      "metadata": {
        "id": "gACzLxR6aLgF"
      },
      "source": [
        "# Working with Naive Bayes DataFame - (All senators csv)"
      ]
    },
    {
      "cell_type": "markdown",
      "metadata": {
        "id": "bB8UVfojOc16"
      },
      "source": [
        "## Generic Stop Words"
      ]
    },
    {
      "cell_type": "code",
      "metadata": {
        "id": "x-mmlq6oaLgF"
      },
      "source": [
        "# df = pd.read_csv('./Datasets/five_senators.csv')\n",
        "import pandas as pd\n",
        "df = pd.read_csv('/content/drive/MyDrive/Colab Notebooks/Data/text_all_senators.csv')"
      ],
      "execution_count": null,
      "outputs": []
    },
    {
      "cell_type": "code",
      "metadata": {
        "id": "AOvvFrzbaLgG"
      },
      "source": [
        "from sklearn.feature_extraction.text import TfidfVectorizer\n",
        "from sklearn.naive_bayes import MultinomialNB\n",
        "from sklearn.pipeline import make_pipeline\n",
        "from sklearn.model_selection import train_test_split\n",
        "\n",
        "target_names = df['author_name'].unique()\n",
        "sw_list = stopwords.words('english')\n",
        "\n",
        "X = df['text']\n",
        "y = df['author_name']\n",
        "X_train, X_test, y_train, y_test = train_test_split(X, y, test_size=0.3)\n",
        "\n",
        "model = make_pipeline(TfidfVectorizer(stop_words=sw_list), MultinomialNB())\n",
        "model.fit(X_train, y_train)\n",
        "labels = model.predict(X_test)\n"
      ],
      "execution_count": null,
      "outputs": []
    },
    {
      "cell_type": "code",
      "metadata": {
        "id": "C0IFJ7VUaLgH"
      },
      "source": [
        "# matrix is not readable w/ 100 different label classes\n",
        "from sklearn.metrics import confusion_matrix\n",
        "import seaborn as sns\n",
        "import matplotlib.pyplot as plt\n",
        "\n",
        "mat = confusion_matrix(y_test, labels)\n",
        "sns.heatmap(mat.T, square=True, annot=True, fmt='d', cbar=False, xticklabels=target_names, yticklabels=target_names)\n",
        "plt.xlabel('true label')\n",
        "plt.ylabel('predicted label')"
      ],
      "execution_count": null,
      "outputs": []
    },
    {
      "cell_type": "code",
      "metadata": {
        "colab": {
          "base_uri": "https://localhost:8080/",
          "height": 224
        },
        "id": "Kr_vDmtUaLgH",
        "outputId": "b5c99603-4bd7-4bbe-e597-5dbcdc27ef9b"
      },
      "source": [
        "output_df = pd.DataFrame({'Actual': y_test, 'Predicted': labels, 'Result': labels==y_test})\n",
        "\n",
        "results = output_df['Result'].value_counts()\n",
        "accuracy = results[1]/(results[0]+results[1])\n",
        "print(f'Accuracy: {round(accuracy,6) * 100}%')\n",
        "output_df.head()"
      ],
      "execution_count": null,
      "outputs": [
        {
          "name": "stdout",
          "output_type": "stream",
          "text": [
            "Accuracy: 44.886199999999995%\n"
          ]
        },
        {
          "data": {
            "text/html": [
              "<div>\n",
              "<style scoped>\n",
              "    .dataframe tbody tr th:only-of-type {\n",
              "        vertical-align: middle;\n",
              "    }\n",
              "\n",
              "    .dataframe tbody tr th {\n",
              "        vertical-align: top;\n",
              "    }\n",
              "\n",
              "    .dataframe thead th {\n",
              "        text-align: right;\n",
              "    }\n",
              "</style>\n",
              "<table border=\"1\" class=\"dataframe\">\n",
              "  <thead>\n",
              "    <tr style=\"text-align: right;\">\n",
              "      <th></th>\n",
              "      <th>Actual</th>\n",
              "      <th>Predicted</th>\n",
              "      <th>Result</th>\n",
              "    </tr>\n",
              "  </thead>\n",
              "  <tbody>\n",
              "    <tr>\n",
              "      <th>33759</th>\n",
              "      <td>SenBobCasey</td>\n",
              "      <td>PattyMurray</td>\n",
              "      <td>False</td>\n",
              "    </tr>\n",
              "    <tr>\n",
              "      <th>7933</th>\n",
              "      <td>maziehirono</td>\n",
              "      <td>SenWarren</td>\n",
              "      <td>False</td>\n",
              "    </tr>\n",
              "    <tr>\n",
              "      <th>43256</th>\n",
              "      <td>Sen_JoeManchin</td>\n",
              "      <td>Sen_JoeManchin</td>\n",
              "      <td>True</td>\n",
              "    </tr>\n",
              "    <tr>\n",
              "      <th>44510</th>\n",
              "      <td>SenRonJohnson</td>\n",
              "      <td>SenTedCruz</td>\n",
              "      <td>False</td>\n",
              "    </tr>\n",
              "    <tr>\n",
              "      <th>38390</th>\n",
              "      <td>JohnCornyn</td>\n",
              "      <td>SenatorCarper</td>\n",
              "      <td>False</td>\n",
              "    </tr>\n",
              "  </tbody>\n",
              "</table>\n",
              "</div>"
            ],
            "text/plain": [
              "               Actual       Predicted  Result\n",
              "33759     SenBobCasey     PattyMurray   False\n",
              "7933      maziehirono       SenWarren   False\n",
              "43256  Sen_JoeManchin  Sen_JoeManchin    True\n",
              "44510   SenRonJohnson      SenTedCruz   False\n",
              "38390      JohnCornyn   SenatorCarper   False"
            ]
          },
          "execution_count": 8,
          "metadata": {},
          "output_type": "execute_result"
        }
      ]
    },
    {
      "cell_type": "code",
      "metadata": {
        "colab": {
          "base_uri": "https://localhost:8080/",
          "height": 36
        },
        "id": "AHL-m0bZaLgI",
        "outputId": "78e57ca1-0f7d-4a4c-9687-09a86551c83c"
      },
      "source": [
        "def predict_author(text, model=model):\n",
        "    pred = model.predict([text])\n",
        "    # target_names = np.unique(y_train)\n",
        "    return pred[0]\n",
        "\n",
        "predict_author('It is time that the billionaire class pays its share in taxes')"
      ],
      "execution_count": null,
      "outputs": [
        {
          "data": {
            "application/vnd.google.colaboratory.intrinsic+json": {
              "type": "string"
            },
            "text/plain": [
              "'SenWarren'"
            ]
          },
          "execution_count": 9,
          "metadata": {},
          "output_type": "execute_result"
        }
      ]
    },
    {
      "cell_type": "markdown",
      "metadata": {
        "id": "TbqVOqjaOi4J"
      },
      "source": [
        "## W/ More Stop Words"
      ]
    },
    {
      "cell_type": "code",
      "metadata": {
        "colab": {
          "base_uri": "https://localhost:8080/",
          "height": 224
        },
        "id": "wStd2no3ObCI",
        "outputId": "bdda4ba9-7151-4860-b0f5-baf80b40a2ee"
      },
      "source": [
        "from sklearn.feature_extraction.text import TfidfVectorizer\n",
        "from sklearn.naive_bayes import MultinomialNB\n",
        "from sklearn.pipeline import make_pipeline\n",
        "from sklearn.model_selection import train_test_split\n",
        "from nltk.corpus import stopwords\n",
        "\n",
        "target_names = df['author_name'].unique()\n",
        "sw_list = stopwords.words('english')\n",
        "# sw_list.extend(['co', 'http', 'https'])\n",
        "\n",
        "X = df['text']\n",
        "y = df['author_name']\n",
        "X_train, X_test, y_train, y_test = train_test_split(X, y, test_size=0.3)\n",
        "\n",
        "model = make_pipeline(TfidfVectorizer(stop_words=sw_list), MultinomialNB())\n",
        "model.fit(X_train, y_train)\n",
        "labels = model.predict(X_test)\n",
        "\n",
        "\n",
        "\n",
        "# Print results\n",
        "output_df = pd.DataFrame({'Actual': y_test, 'Predicted': labels, 'Result': labels==y_test})\n",
        "results = output_df['Result'].value_counts()\n",
        "accuracy = results[1]/(results[0]+results[1])\n",
        "print(f'Accuracy: {round(accuracy,6) * 100}%')\n",
        "output_df.head()"
      ],
      "execution_count": null,
      "outputs": [
        {
          "output_type": "stream",
          "name": "stdout",
          "text": [
            "Accuracy: 44.1322%\n"
          ]
        },
        {
          "output_type": "execute_result",
          "data": {
            "text/html": [
              "<div>\n",
              "<style scoped>\n",
              "    .dataframe tbody tr th:only-of-type {\n",
              "        vertical-align: middle;\n",
              "    }\n",
              "\n",
              "    .dataframe tbody tr th {\n",
              "        vertical-align: top;\n",
              "    }\n",
              "\n",
              "    .dataframe thead th {\n",
              "        text-align: right;\n",
              "    }\n",
              "</style>\n",
              "<table border=\"1\" class=\"dataframe\">\n",
              "  <thead>\n",
              "    <tr style=\"text-align: right;\">\n",
              "      <th></th>\n",
              "      <th>Actual</th>\n",
              "      <th>Predicted</th>\n",
              "      <th>Result</th>\n",
              "    </tr>\n",
              "  </thead>\n",
              "  <tbody>\n",
              "    <tr>\n",
              "      <th>8980</th>\n",
              "      <td>SenatorRisch</td>\n",
              "      <td>RoyBlunt</td>\n",
              "      <td>False</td>\n",
              "    </tr>\n",
              "    <tr>\n",
              "      <th>38121</th>\n",
              "      <td>SenAlexander</td>\n",
              "      <td>SenWarren</td>\n",
              "      <td>False</td>\n",
              "    </tr>\n",
              "    <tr>\n",
              "      <th>14222</th>\n",
              "      <td>SenJohnKennedy</td>\n",
              "      <td>SenJohnKennedy</td>\n",
              "      <td>True</td>\n",
              "    </tr>\n",
              "    <tr>\n",
              "      <th>34604</th>\n",
              "      <td>SenToomey</td>\n",
              "      <td>SenJackReed</td>\n",
              "      <td>False</td>\n",
              "    </tr>\n",
              "    <tr>\n",
              "      <th>18104</th>\n",
              "      <td>SenGaryPeters</td>\n",
              "      <td>SenGaryPeters</td>\n",
              "      <td>True</td>\n",
              "    </tr>\n",
              "  </tbody>\n",
              "</table>\n",
              "</div>"
            ],
            "text/plain": [
              "               Actual       Predicted  Result\n",
              "8980     SenatorRisch        RoyBlunt   False\n",
              "38121    SenAlexander       SenWarren   False\n",
              "14222  SenJohnKennedy  SenJohnKennedy    True\n",
              "34604       SenToomey     SenJackReed   False\n",
              "18104   SenGaryPeters   SenGaryPeters    True"
            ]
          },
          "metadata": {},
          "execution_count": 21
        }
      ]
    },
    {
      "cell_type": "markdown",
      "metadata": {
        "id": "nZWc7O53XHf4"
      },
      "source": [
        "Doing 10 runs for each type (normal stopwords and added stopwords)"
      ]
    },
    {
      "cell_type": "code",
      "metadata": {
        "colab": {
          "base_uri": "https://localhost:8080/"
        },
        "id": "Y_MR2wrzWVl_",
        "outputId": "db706a27-99dc-417a-e733-567839e9d8c3"
      },
      "source": [
        "final_accuracy = []\n",
        "target_names = df['author_name'].unique()\n",
        "sw_list = stopwords.words('english')\n",
        "sw_list.extend(['co', 'http', 'https'])\n",
        "\n",
        "for _ in range(10):\n",
        "\n",
        "  X = df['text']\n",
        "  y = df['author_name']\n",
        "  X_train, X_test, y_train, y_test = train_test_split(X, y, test_size=0.3)\n",
        "\n",
        "  model = make_pipeline(TfidfVectorizer(stop_words=sw_list), MultinomialNB())\n",
        "  model.fit(X_train, y_train)\n",
        "  labels = model.predict(X_test)\n",
        "\n",
        "\n",
        "\n",
        "  # Print results\n",
        "  output_df = pd.DataFrame({'Actual': y_test, 'Predicted': labels, 'Result': labels==y_test})\n",
        "  results = output_df['Result'].value_counts()\n",
        "  accuracy = results[1]/(results[0]+results[1])\n",
        "  final_accuracy.append(accuracy)\n",
        "  # print(f'Accuracy: {round(accuracy,6) * 100}%')\n",
        "  # output_df.head()\n",
        "\n",
        "print(f'Accuracy: {round(sum(final_accuracy)/len(final_accuracy),6) * 100}%')"
      ],
      "execution_count": null,
      "outputs": [
        {
          "output_type": "stream",
          "name": "stdout",
          "text": [
            "Accuracy: 43.797599999999996%\n"
          ]
        }
      ]
    },
    {
      "cell_type": "markdown",
      "metadata": {
        "id": "lKn-zCXEnzcj"
      },
      "source": [
        "## Other naive bayes"
      ]
    },
    {
      "cell_type": "code",
      "metadata": {
        "id": "qoVgFN1Cn1Zq"
      },
      "source": [
        "import pandas as pd\n",
        "df = pd.read_csv('/content/drive/MyDrive/Colab Notebooks/Data/text_all_senators.csv')"
      ],
      "execution_count": null,
      "outputs": []
    },
    {
      "cell_type": "code",
      "metadata": {
        "colab": {
          "base_uri": "https://localhost:8080/",
          "height": 224
        },
        "id": "AaZSO8LWoCHO",
        "outputId": "bcbc5b78-3d9e-42bb-aacb-28c696c1b6e4"
      },
      "source": [
        "from sklearn.feature_extraction.text import TfidfVectorizer\n",
        "from sklearn.naive_bayes import MultinomialNB\n",
        "from sklearn.pipeline import make_pipeline\n",
        "from sklearn.model_selection import train_test_split\n",
        "from nltk.corpus import stopwords\n",
        "import numpy as np\n",
        "\n",
        "target_names = df['author_name'].unique()\n",
        "sw_list = stopwords.words('english')\n",
        "# sw_list.extend(['co', 'http', 'https'])\n",
        "\n",
        "X = df['text']\n",
        "y = df['author_name']\n",
        "X_train, X_test, y_train, y_test = train_test_split(X, y, test_size=0.3)\n",
        "\n",
        "model = make_pipeline(TfidfVectorizer(stop_words=sw_list), MultinomialNB())\n",
        "model.fit(X_train,y_train)\n",
        "labels = model.predict(X_test)\n",
        "\n",
        "\n",
        "\n",
        "# Print results\n",
        "output_df = pd.DataFrame({'Actual': y_test, 'Predicted': labels, 'Result': labels==y_test})\n",
        "results = output_df['Result'].value_counts()\n",
        "accuracy = results[1]/(results[0]+results[1])\n",
        "print(f'Accuracy: {round(accuracy,6) * 100}%')\n",
        "output_df.head()"
      ],
      "execution_count": null,
      "outputs": [
        {
          "output_type": "stream",
          "name": "stdout",
          "text": [
            "Accuracy: 43.9471%\n"
          ]
        },
        {
          "output_type": "execute_result",
          "data": {
            "text/html": [
              "<div>\n",
              "<style scoped>\n",
              "    .dataframe tbody tr th:only-of-type {\n",
              "        vertical-align: middle;\n",
              "    }\n",
              "\n",
              "    .dataframe tbody tr th {\n",
              "        vertical-align: top;\n",
              "    }\n",
              "\n",
              "    .dataframe thead th {\n",
              "        text-align: right;\n",
              "    }\n",
              "</style>\n",
              "<table border=\"1\" class=\"dataframe\">\n",
              "  <thead>\n",
              "    <tr style=\"text-align: right;\">\n",
              "      <th></th>\n",
              "      <th>Actual</th>\n",
              "      <th>Predicted</th>\n",
              "      <th>Result</th>\n",
              "    </tr>\n",
              "  </thead>\n",
              "  <tbody>\n",
              "    <tr>\n",
              "      <th>17600</th>\n",
              "      <td>SenWarren</td>\n",
              "      <td>SenWarren</td>\n",
              "      <td>True</td>\n",
              "    </tr>\n",
              "    <tr>\n",
              "      <th>14927</th>\n",
              "      <td>SenAngusKing</td>\n",
              "      <td>SenAngusKing</td>\n",
              "      <td>True</td>\n",
              "    </tr>\n",
              "    <tr>\n",
              "      <th>17186</th>\n",
              "      <td>SenWarren</td>\n",
              "      <td>JerryMoran</td>\n",
              "      <td>False</td>\n",
              "    </tr>\n",
              "    <tr>\n",
              "      <th>25187</th>\n",
              "      <td>SenatorHassan</td>\n",
              "      <td>SenatorHassan</td>\n",
              "      <td>True</td>\n",
              "    </tr>\n",
              "    <tr>\n",
              "      <th>16446</th>\n",
              "      <td>SenatorCardin</td>\n",
              "      <td>SenatorCardin</td>\n",
              "      <td>True</td>\n",
              "    </tr>\n",
              "  </tbody>\n",
              "</table>\n",
              "</div>"
            ],
            "text/plain": [
              "              Actual      Predicted  Result\n",
              "17600      SenWarren      SenWarren    True\n",
              "14927   SenAngusKing   SenAngusKing    True\n",
              "17186      SenWarren     JerryMoran   False\n",
              "25187  SenatorHassan  SenatorHassan    True\n",
              "16446  SenatorCardin  SenatorCardin    True"
            ]
          },
          "metadata": {},
          "execution_count": 22
        }
      ]
    },
    {
      "cell_type": "markdown",
      "metadata": {
        "id": "fWvZ0Fl9O8fR"
      },
      "source": [
        "# LDA Dataset Preprocessing (3rd data set) "
      ]
    },
    {
      "cell_type": "markdown",
      "metadata": {
        "id": "yuFhnrYyHYUV"
      },
      "source": [
        "## LDA Text Model"
      ]
    },
    {
      "cell_type": "markdown",
      "metadata": {
        "id": "tLR8qCF7Vzq_"
      },
      "source": [
        "Need to do some more cleaning of text and topics ..."
      ]
    },
    {
      "cell_type": "code",
      "metadata": {
        "id": "HCoownltHx7e"
      },
      "source": [
        "!pip install pyLDAvis\n",
        "!pip install pyLDAvis.gensim\n",
        "!pip install logging\n",
        "!pip install -U pip setuptools wheel\n",
        "!pip install -U spacy\n",
        "!python -m spacy download en_core_web_sm"
      ],
      "execution_count": null,
      "outputs": []
    },
    {
      "cell_type": "code",
      "metadata": {
        "colab": {
          "base_uri": "https://localhost:8080/"
        },
        "id": "2ypgF_E-HaBJ",
        "outputId": "5cc48f58-eec9-49a8-e66f-5d49464be00a"
      },
      "source": [
        "import sys\n",
        "import re\n",
        "import numpy as np\n",
        "from pprint import pprint\n",
        "\n",
        "# Gensim\n",
        "import gensim, spacy, logging, warnings\n",
        "import gensim.corpora as corpora\n",
        "from gensim.utils import simple_preprocess\n",
        "from gensim.models import CoherenceModel\n",
        "import matplotlib.pyplot as plt\n",
        "\n",
        "# NLTK Stop words\n",
        "from nltk.corpus import stopwords\n",
        "import nltk\n",
        "nltk.download('stopwords')\n",
        "stop_words = stopwords.words('english')\n",
        "stop_words.extend(['co', 'american', 'amp', 'make', 'amp', 'country', 'http', 'https'])"
      ],
      "execution_count": null,
      "outputs": [
        {
          "name": "stdout",
          "output_type": "stream",
          "text": [
            "[nltk_data] Downloading package stopwords to /root/nltk_data...\n",
            "[nltk_data]   Package stopwords is already up-to-date!\n"
          ]
        }
      ]
    },
    {
      "cell_type": "code",
      "metadata": {
        "colab": {
          "base_uri": "https://localhost:8080/",
          "height": 206
        },
        "id": "Nr6ZDDO0HjWQ",
        "outputId": "a1e7ea1c-32bf-4827-dc76-ca573f937483"
      },
      "source": [
        "df = pd.read_csv('/content/drive/MyDrive/Colab Notebooks/Data/text_all_senators.csv')\n",
        "df.head()"
      ],
      "execution_count": null,
      "outputs": [
        {
          "data": {
            "text/html": [
              "<div>\n",
              "<style scoped>\n",
              "    .dataframe tbody tr th:only-of-type {\n",
              "        vertical-align: middle;\n",
              "    }\n",
              "\n",
              "    .dataframe tbody tr th {\n",
              "        vertical-align: top;\n",
              "    }\n",
              "\n",
              "    .dataframe thead th {\n",
              "        text-align: right;\n",
              "    }\n",
              "</style>\n",
              "<table border=\"1\" class=\"dataframe\">\n",
              "  <thead>\n",
              "    <tr style=\"text-align: right;\">\n",
              "      <th></th>\n",
              "      <th>id</th>\n",
              "      <th>text</th>\n",
              "      <th>retweets</th>\n",
              "      <th>likes</th>\n",
              "      <th>replies</th>\n",
              "      <th>quotes</th>\n",
              "      <th>day_week</th>\n",
              "      <th>time_day</th>\n",
              "      <th>author_name</th>\n",
              "    </tr>\n",
              "  </thead>\n",
              "  <tbody>\n",
              "    <tr>\n",
              "      <th>0</th>\n",
              "      <td>1461387699345145856</td>\n",
              "      <td>As the longest serving member and former chair...</td>\n",
              "      <td>7</td>\n",
              "      <td>9</td>\n",
              "      <td>8</td>\n",
              "      <td>1</td>\n",
              "      <td>T</td>\n",
              "      <td>17</td>\n",
              "      <td>SenShelby</td>\n",
              "    </tr>\n",
              "    <tr>\n",
              "      <th>1</th>\n",
              "      <td>1461387697914888193</td>\n",
              "      <td>After reviewing Dr. Omarova’s record and heari...</td>\n",
              "      <td>8</td>\n",
              "      <td>27</td>\n",
              "      <td>13</td>\n",
              "      <td>4</td>\n",
              "      <td>T</td>\n",
              "      <td>17</td>\n",
              "      <td>SenShelby</td>\n",
              "    </tr>\n",
              "    <tr>\n",
              "      <th>2</th>\n",
              "      <td>1461113415418662920</td>\n",
              "      <td>This is excellent news for UAB and patient car...</td>\n",
              "      <td>3</td>\n",
              "      <td>16</td>\n",
              "      <td>7</td>\n",
              "      <td>0</td>\n",
              "      <td>T</td>\n",
              "      <td>23</td>\n",
              "      <td>SenShelby</td>\n",
              "    </tr>\n",
              "    <tr>\n",
              "      <th>3</th>\n",
              "      <td>1460749779647012868</td>\n",
              "      <td>The crisis at our southern border continues. M...</td>\n",
              "      <td>37</td>\n",
              "      <td>99</td>\n",
              "      <td>43</td>\n",
              "      <td>4</td>\n",
              "      <td>T</td>\n",
              "      <td>23</td>\n",
              "      <td>SenShelby</td>\n",
              "    </tr>\n",
              "    <tr>\n",
              "      <th>4</th>\n",
              "      <td>1460744180565688323</td>\n",
              "      <td>Today I met with @federalreserve Chair Jay Pow...</td>\n",
              "      <td>7</td>\n",
              "      <td>21</td>\n",
              "      <td>19</td>\n",
              "      <td>2</td>\n",
              "      <td>T</td>\n",
              "      <td>22</td>\n",
              "      <td>SenShelby</td>\n",
              "    </tr>\n",
              "  </tbody>\n",
              "</table>\n",
              "</div>"
            ],
            "text/plain": [
              "                    id  ... author_name\n",
              "0  1461387699345145856  ...   SenShelby\n",
              "1  1461387697914888193  ...   SenShelby\n",
              "2  1461113415418662920  ...   SenShelby\n",
              "3  1460749779647012868  ...   SenShelby\n",
              "4  1460744180565688323  ...   SenShelby\n",
              "\n",
              "[5 rows x 9 columns]"
            ]
          },
          "execution_count": 21,
          "metadata": {},
          "output_type": "execute_result"
        }
      ]
    },
    {
      "cell_type": "code",
      "metadata": {
        "colab": {
          "base_uri": "https://localhost:8080/"
        },
        "id": "ne-FHfG2Idtw",
        "outputId": "575e54c3-b603-46ee-c322-e90bd3ae8477"
      },
      "source": [
        "def sent_to_words(sentences):\n",
        "  for sent in sentences:\n",
        "    sent = re.sub('\\S*@\\S*\\s?', '', sent)  # remove emails\n",
        "    sent = re.sub('\\s+', ' ', sent)  # remove newline chars\n",
        "    sent = re.sub(\"\\'\", \"\", sent)  # remove single quotes\n",
        "    sent = gensim.utils.simple_preprocess(str(sent), deacc=True) \n",
        "    yield(sent)  \n",
        "\n",
        "# Convert each tweet to a list of cleaned words and add to a master list\n",
        "data = df.text.values.tolist()\n",
        "data_words = list(sent_to_words(data))\n",
        "for tweet in data_words[:5]: # print the first :n tweet word lists\n",
        "  print(tweet)"
      ],
      "execution_count": null,
      "outputs": [
        {
          "name": "stdout",
          "output_type": "stream",
          "text": [
            "['as', 'the', 'longest', 'serving', 'member', 'and', 'former', 'chairman', 'of', 'the', 'senate', 'banking', 'committee', 'understand', 'the', 'importance', 'of', 'the', 'role', 'the', 'comptroller', 'of', 'the', 'currency', 'serves', 'in', 'regulating', 'and', 'supervising', 'national', 'banks', 'dr', 'omarova', 'is', 'not', 'qualified', 'for', 'this', 'position']\n",
            "['after', 'reviewing', 'dr', 'omarova', 'record', 'and', 'hearing', 'her', 'testimony', 'today', 'have', 'grave', 'concerns', 'about', 'her', 'views', 'and', 'ability', 'to', 'lead', 'the', 'occ', 'in', 'an', 'impartial', 'manner', 'will', 'not', 'support', 'her', 'nomination']\n",
            "['this', 'is', 'excellent', 'news', 'for', 'uab', 'and', 'patient', 'care', 'in', 'alabama', 'look', 'forward', 'to', 'seeing', 'the', 'positive', 'impacts', 'this', 'cutting', 'edge', 'facility', 'will', 'have', 'on', 'the', 'day', 'to', 'day', 'lives', 'of', 'alabamians', 'and', 'the', 'local', 'economy', 'https', 'co', 'sqyio', 'pwy']\n",
            "['the', 'crisis', 'at', 'our', 'southern', 'border', 'continues', 'meanwhile', 'democrats', 'want', 'to', 'pay', 'to', 'illegal', 'immigrants', 'who', 'were', 'subjected', 'to', 'the', 'zero', 'tolerance', 'policy', 'by', 'contrast', 'when', 'soldier', 'is', 'killed', 'on', 'active', 'duty', 'their', 'family', 'receives', 'this', 'is', 'an', 'insult', 'to', 'all', 'americans']\n",
            "['today', 'met', 'with', 'chair', 'jay', 'powell', 'we', 'discussed', 'his', 'potential', 'renomination', 'monetary', 'policy', 'supply', 'chain', 'issues', 'and', 'inflation', 'which', 'believe', 'is', 'his', 'biggest', 'challenge', 'deeply', 'concerned', 'that', 'inflation', 'is', 'already', 'with', 'us', 'and', 'that', 'the', 'fed', 'has', 'missed', 'the', 'boat']\n"
          ]
        }
      ]
    },
    {
      "cell_type": "code",
      "metadata": {
        "colab": {
          "base_uri": "https://localhost:8080/"
        },
        "id": "MNe2_4w8IraE",
        "outputId": "031ee479-bd76-4ff3-e392-6bf8e6ec8420"
      },
      "source": [
        "# Build the bigram and trigram models\n",
        "bigram = gensim.models.Phrases(data_words, min_count=5, threshold=100) # higher threshold fewer phrases.\n",
        "trigram = gensim.models.Phrases(bigram[data_words], threshold=100)  \n",
        "bigram_mod = gensim.models.phrases.Phraser(bigram)\n",
        "trigram_mod = gensim.models.phrases.Phraser(trigram)"
      ],
      "execution_count": null,
      "outputs": [
        {
          "name": "stderr",
          "output_type": "stream",
          "text": [
            "/usr/local/lib/python3.7/dist-packages/gensim/models/phrases.py:598: UserWarning: For a faster implementation, use the gensim.models.phrases.Phraser class\n",
            "  warnings.warn(\"For a faster implementation, use the gensim.models.phrases.Phraser class\")\n"
          ]
        }
      ]
    },
    {
      "cell_type": "code",
      "metadata": {
        "colab": {
          "base_uri": "https://localhost:8080/"
        },
        "id": "nRLJG8gcIv0t",
        "outputId": "3609960e-1bc9-4a6a-8dd0-2f349108c7ed"
      },
      "source": [
        "def process_words(texts, stop_words=stop_words, allowed_postags=['NOUN', 'ADJ', 'VERB', 'ADV']):\n",
        "  \"\"\"Remove Stopwords, Form Bigrams, Trigrams and perform Lemmatization\"\"\"\n",
        "  texts = [[word for word in simple_preprocess(str(doc)) if word not in stop_words] for doc in texts]\n",
        "  texts = [bigram_mod[doc] for doc in texts]\n",
        "  texts = [trigram_mod[bigram_mod[doc]] for doc in texts]\n",
        "      \n",
        "  texts_out = []\n",
        "  nlp = spacy.load('en_core_web_sm', disable=['parser', 'ner']) \n",
        "      \n",
        "  for sent in texts:\n",
        "    doc = nlp(\" \".join(sent)) \n",
        "    texts_out.append([token.lemma_ for token in doc if token.pos_ in allowed_postags])\n",
        "        \n",
        "  # remove stopwords once more after lemmatization\n",
        "  texts_out = [[word for word in simple_preprocess(str(doc)) if word not in stop_words] for doc in texts_out]    \n",
        "  return texts_out\n",
        "  \n",
        "data_ready = process_words(data_words)  # processed Text Data\n",
        "for tweet in data_ready[:5]:\n",
        "  print(tweet)"
      ],
      "execution_count": null,
      "outputs": [
        {
          "name": "stdout",
          "output_type": "stream",
          "text": [
            "['longest_serving', 'member', 'former', 'chairman', 'understand', 'importance', 'role', 'comptroller', 'currency', 'serve', 'regulate', 'supervise', 'national', 'bank', 'qualified', 'position']\n",
            "['review', 'record', 'hear', 'testimony', 'today', 'grave', 'concern', 'view', 'ability', 'lead', 'impartial', 'manner', 'support', 'nomination']\n",
            "['excellent', 'news', 'patient', 'see', 'positive', 'impact', 'day', 'live', 'alabamian', 'local', 'economy', 'sqyio']\n",
            "['continue', 'meanwhile', 'want', 'pay', 'subject', 'tolerance', 'policy', 'contrast', 'soldier', 'kill', 'family', 'receive']\n",
            "['today', 'meet', 'discuss', 'potential', 'renomination', 'monetary', 'policy', 'inflation', 'believe', 'big', 'challenge', 'deeply_concerne', 'inflation', 'already', 'boat']\n"
          ]
        }
      ]
    },
    {
      "cell_type": "code",
      "metadata": {
        "colab": {
          "base_uri": "https://localhost:8080/",
          "height": 257
        },
        "id": "NTWRHxXzKSxk",
        "outputId": "d7b76aa9-06fc-4ba4-c99e-c9dbd3d98ecd"
      },
      "source": [
        "# Create Dictionary\n",
        "id2word = corpora.Dictionary(data_ready)\n",
        "\n",
        "# Create corpus\n",
        "corpus = [id2word.doc2bow(text) for text in data_ready]\n",
        "\n",
        "# Add new features to original dataset\n",
        "lda_model = gensim.models.ldamodel.LdaModel(corpus=corpus, \n",
        "                                      id2word=id2word, \n",
        "                                      num_topics=6, \n",
        "                                      chunksize=20, \n",
        "                                      passes=5,\n",
        "                                      per_word_topics=True)\n",
        "\n",
        "df_topics = df.copy()\n",
        "\n",
        "num_topics = len(lda_model.get_topics()) # store the number of topics from the last model\n",
        "for col in range(num_topics): # generate a new column for each topic\n",
        "  df_topics[f'topic_{col + 1}'] = 0.0\n",
        "  \n",
        "# Store the topic score and dominant topic\n",
        "for i, words in enumerate(data_ready):\n",
        "  doc = lda_model[id2word.doc2bow(words)] # generate a corpus for this document set of words\n",
        "  \n",
        "  for j, score in enumerate(doc[0]): # for each document in the corpus\n",
        "    # Get the topic score and store it in the appropriate column\n",
        "    df_topics.iat[i, (len(df_topics.columns) - ((num_topics) - score[0]))] = score[1]\n",
        "\n",
        "df_topics.head()"
      ],
      "execution_count": null,
      "outputs": [
        {
          "data": {
            "text/html": [
              "<div>\n",
              "<style scoped>\n",
              "    .dataframe tbody tr th:only-of-type {\n",
              "        vertical-align: middle;\n",
              "    }\n",
              "\n",
              "    .dataframe tbody tr th {\n",
              "        vertical-align: top;\n",
              "    }\n",
              "\n",
              "    .dataframe thead th {\n",
              "        text-align: right;\n",
              "    }\n",
              "</style>\n",
              "<table border=\"1\" class=\"dataframe\">\n",
              "  <thead>\n",
              "    <tr style=\"text-align: right;\">\n",
              "      <th></th>\n",
              "      <th>id</th>\n",
              "      <th>text</th>\n",
              "      <th>retweets</th>\n",
              "      <th>likes</th>\n",
              "      <th>replies</th>\n",
              "      <th>quotes</th>\n",
              "      <th>day_week</th>\n",
              "      <th>time_day</th>\n",
              "      <th>author_name</th>\n",
              "      <th>topic_1</th>\n",
              "      <th>topic_2</th>\n",
              "      <th>topic_3</th>\n",
              "      <th>topic_4</th>\n",
              "      <th>topic_5</th>\n",
              "      <th>topic_6</th>\n",
              "    </tr>\n",
              "  </thead>\n",
              "  <tbody>\n",
              "    <tr>\n",
              "      <th>0</th>\n",
              "      <td>1461387699345145856</td>\n",
              "      <td>As the longest serving member and former chair...</td>\n",
              "      <td>7</td>\n",
              "      <td>9</td>\n",
              "      <td>8</td>\n",
              "      <td>1</td>\n",
              "      <td>T</td>\n",
              "      <td>17</td>\n",
              "      <td>SenShelby</td>\n",
              "      <td>0.079437</td>\n",
              "      <td>0.000000</td>\n",
              "      <td>0.157755</td>\n",
              "      <td>0.000000</td>\n",
              "      <td>0.000000</td>\n",
              "      <td>0.733328</td>\n",
              "    </tr>\n",
              "    <tr>\n",
              "      <th>1</th>\n",
              "      <td>1461387697914888193</td>\n",
              "      <td>After reviewing Dr. Omarova’s record and heari...</td>\n",
              "      <td>8</td>\n",
              "      <td>27</td>\n",
              "      <td>13</td>\n",
              "      <td>4</td>\n",
              "      <td>T</td>\n",
              "      <td>17</td>\n",
              "      <td>SenShelby</td>\n",
              "      <td>0.011148</td>\n",
              "      <td>0.011161</td>\n",
              "      <td>0.079795</td>\n",
              "      <td>0.795078</td>\n",
              "      <td>0.011115</td>\n",
              "      <td>0.091702</td>\n",
              "    </tr>\n",
              "    <tr>\n",
              "      <th>2</th>\n",
              "      <td>1461113415418662920</td>\n",
              "      <td>This is excellent news for UAB and patient car...</td>\n",
              "      <td>3</td>\n",
              "      <td>16</td>\n",
              "      <td>7</td>\n",
              "      <td>0</td>\n",
              "      <td>T</td>\n",
              "      <td>23</td>\n",
              "      <td>SenShelby</td>\n",
              "      <td>0.094720</td>\n",
              "      <td>0.763823</td>\n",
              "      <td>0.012947</td>\n",
              "      <td>0.012831</td>\n",
              "      <td>0.102838</td>\n",
              "      <td>0.012842</td>\n",
              "    </tr>\n",
              "    <tr>\n",
              "      <th>3</th>\n",
              "      <td>1460749779647012868</td>\n",
              "      <td>The crisis at our southern border continues. M...</td>\n",
              "      <td>37</td>\n",
              "      <td>99</td>\n",
              "      <td>43</td>\n",
              "      <td>4</td>\n",
              "      <td>T</td>\n",
              "      <td>23</td>\n",
              "      <td>SenShelby</td>\n",
              "      <td>0.012835</td>\n",
              "      <td>0.012841</td>\n",
              "      <td>0.314966</td>\n",
              "      <td>0.012833</td>\n",
              "      <td>0.521006</td>\n",
              "      <td>0.125519</td>\n",
              "    </tr>\n",
              "    <tr>\n",
              "      <th>4</th>\n",
              "      <td>1460744180565688323</td>\n",
              "      <td>Today I met with @federalreserve Chair Jay Pow...</td>\n",
              "      <td>7</td>\n",
              "      <td>21</td>\n",
              "      <td>19</td>\n",
              "      <td>2</td>\n",
              "      <td>T</td>\n",
              "      <td>22</td>\n",
              "      <td>SenShelby</td>\n",
              "      <td>0.010435</td>\n",
              "      <td>0.371630</td>\n",
              "      <td>0.149368</td>\n",
              "      <td>0.010438</td>\n",
              "      <td>0.010437</td>\n",
              "      <td>0.447692</td>\n",
              "    </tr>\n",
              "  </tbody>\n",
              "</table>\n",
              "</div>"
            ],
            "text/plain": [
              "                    id  ...   topic_6\n",
              "0  1461387699345145856  ...  0.733328\n",
              "1  1461387697914888193  ...  0.091702\n",
              "2  1461113415418662920  ...  0.012842\n",
              "3  1460749779647012868  ...  0.125519\n",
              "4  1460744180565688323  ...  0.447692\n",
              "\n",
              "[5 rows x 15 columns]"
            ]
          },
          "execution_count": 25,
          "metadata": {},
          "output_type": "execute_result"
        }
      ]
    },
    {
      "cell_type": "code",
      "metadata": {
        "colab": {
          "base_uri": "https://localhost:8080/",
          "height": 997
        },
        "id": "ISKS1wZVUynu",
        "outputId": "30e92e4c-6c0a-4c14-c047-2193ba3af392"
      },
      "source": [
        "# Bar chart of word counts for each topic\n",
        "from matplotlib import pyplot as plt\n",
        "from wordcloud import WordCloud, STOPWORDS\n",
        "import matplotlib.colors as mcolors\n",
        "from collections import Counter\n",
        "\n",
        "\n",
        "topics = lda_model.show_topics(formatted=False)\n",
        "data_flat = [w for w_list in data_ready for w in w_list]\n",
        "counter = Counter(data_flat)\n",
        "\n",
        "out = []\n",
        "for i, topic in topics:\n",
        "    for word, weight in topic:\n",
        "        out.append([word, i , weight, counter[word]])\n",
        "\n",
        "df = pd.DataFrame(out, columns=['word', 'topic_id', 'importance', 'word_count'])        \n",
        "\n",
        "# Plot Word Count and Weights of Topic Keywords\n",
        "fig, axes = plt.subplots(2, 3, figsize=(16,10), sharey=True, dpi=160)\n",
        "\n",
        "cols = [color for name, color in mcolors.TABLEAU_COLORS.items()]\n",
        "for i, ax in enumerate(axes.flatten()):\n",
        "    ax.bar(x='word', height=\"word_count\", data=df.loc[df.topic_id==i, :], color=cols[i], width=0.5, alpha=0.3, label='Word Count')\n",
        "    ax_twin = ax.twinx()\n",
        "    ax_twin.bar(x='word', height=\"importance\", data=df.loc[df.topic_id==i, :], color=cols[i], width=0.2, label='Weights')\n",
        "    ax.set_ylabel('Word Count', color=cols[i])\n",
        "    # ax_twin.set_ylim(0, 0.030); ax.set_ylim(0, 3500)\n",
        "    ax.set_title('Topic: ' + str(i), color=cols[i], fontsize=16)\n",
        "    ax.tick_params(axis='y', left=False)\n",
        "    ax.set_xticklabels(df.loc[df.topic_id==i, 'word'], rotation=30, horizontalalignment= 'right')\n",
        "    ax.legend(loc='upper center'); ax_twin.legend(loc='upper right')\n",
        "\n",
        "fig.tight_layout(w_pad=2)    \n",
        "fig.suptitle('Word Count and Importance of Topic Keywords', fontsize=22, y=1.05)    \n",
        "plt.show()"
      ],
      "execution_count": null,
      "outputs": [
        {
          "data": {
            "image/png": "[encoded data removed]",
            "text/plain": [
              "<Figure size 2560x1600 with 12 Axes>"
            ]
          },
          "metadata": {},
          "output_type": "display_data"
        }
      ]
    },
    {
      "cell_type": "code",
      "metadata": {
        "id": "QsUeFaPUrbAl"
      },
      "source": [
        "df_topics.to_csv('6topics_data.csv')"
      ],
      "execution_count": null,
      "outputs": []
    },
    {
      "cell_type": "markdown",
      "metadata": {
        "id": "Yg9IBUF4S0JZ"
      },
      "source": [
        "## 3rd Dataset - Running models"
      ]
    },
    {
      "cell_type": "code",
      "metadata": {
        "id": "kIMAg0_WreYg"
      },
      "source": [
        "# Run scikit learn MLP model on the new dataset\n",
        "from sklearn.neural_network import MLPClassifier\n",
        "from sklearn.model_selection import train_test_split\n",
        "from sklearn import preprocessing\n",
        "\n",
        "# Copy dataframe\n",
        "df_topics_mlp = df_topics.copy()\n",
        "X = df_topics_mlp.drop(columns=['id', 'text', 'author_name', 'day_week', 'time_day']) # keep day_week and time_day in future models\n",
        "y = df_topics_mlp['author_name']\n",
        "\n",
        "\n",
        "# Normailze dataframe\n",
        "scaler = preprocessing.StandardScaler().fit(X)\n",
        "X_normalized = scaler.transform(X)\n",
        "\n",
        "\n",
        "# Min max normalization\n",
        "min_max_scaler = preprocessing.MinMaxScaler()\n",
        "X_min_max = min_max_scaler.fit_transform(X)\n",
        "\n",
        "# Split and train MLP\n",
        "# X_train, X_test, y_train, y_test = train_test_split(X_normalized, y, test_size=0.2) # gaussian\n",
        "X_train, X_test, y_train, y_test = train_test_split(X_min_max, y, test_size=0.2) # min max\n",
        "clf = MLPClassifier(max_iter=300).fit(X_train, y_train)\n",
        "clf.score(X_test, y_test)"
      ],
      "execution_count": null,
      "outputs": []
    },
    {
      "cell_type": "code",
      "metadata": {
        "colab": {
          "background_save": true,
          "base_uri": "https://localhost:8080/"
        },
        "id": "sCKi3y0LPorh",
        "outputId": "f139c299-a483-4953-8ab7-b6bbdf4e583a"
      },
      "source": [
        "# Run scikit learn MLP model on the new dataset\n",
        "from sklearn.neural_network import MLPClassifier\n",
        "from sklearn.model_selection import train_test_split\n",
        "from sklearn import preprocessing\n",
        "\n",
        "# Copy dataframe\n",
        "df_topics_mlp = df_topics.copy()\n",
        "X = df_topics_mlp.drop(columns=['id', 'text', 'author_name', 'day_week', 'time_day']) # keep day_week and time_day in future models\n",
        "y = df_topics_mlp['author_name']\n",
        "\n",
        "\n",
        "# Normailze dataframe\n",
        "scaler = preprocessing.StandardScaler().fit(X)\n",
        "X_normalized = scaler.transform(X)\n",
        "\n",
        "\n",
        "# Min max normalization\n",
        "min_max_scaler = preprocessing.MinMaxScaler()\n",
        "X_min_max = min_max_scaler.fit_transform(X)\n",
        "\n",
        "# Split and train MLP\n",
        "# X_train, X_test, y_train, y_test = train_test_split(X_normalized, y, test_size=0.2) # gaussian\n",
        "X_train, X_test, y_train, y_test = train_test_split(X_min_max, y, test_size=0.2) # min max\n",
        "clf = MLPClassifier(max_iter=300).fit(X_train, y_train)\n",
        "clf.score(X_test, y_test)"
      ],
      "execution_count": null,
      "outputs": [
        {
          "name": "stderr",
          "output_type": "stream",
          "text": [
            "/usr/local/lib/python3.7/dist-packages/sklearn/neural_network/_multilayer_perceptron.py:696: ConvergenceWarning: Stochastic Optimizer: Maximum iterations (300) reached and the optimization hasn't converged yet.\n",
            "  ConvergenceWarning,\n"
          ]
        },
        {
          "data": {
            "text/plain": [
              "0.09953727506426735"
            ]
          },
          "execution_count": null,
          "metadata": {},
          "output_type": "execute_result"
        }
      ]
    },
    {
      "cell_type": "code",
      "metadata": {
        "colab": {
          "base_uri": "https://localhost:8080/"
        },
        "id": "XUXl69s2QwDc",
        "outputId": "07092c24-c84f-4938-a4e2-20a70295c424"
      },
      "source": [
        "mlp_sk = MLPClassifier(learning_rate='constant', learning_rate_init=0.15, hidden_layer_sizes=(30), momentum=0.65, activation='logistic', max_iter=1000,\n",
        "                       n_iter_no_change=20, solver='sgd').fit(X_train, y_train)\n",
        "mlp_sk.score(X_test, y_test)"
      ],
      "execution_count": null,
      "outputs": [
        {
          "name": "stderr",
          "output_type": "stream",
          "text": [
            "/usr/local/lib/python3.7/dist-packages/sklearn/neural_network/_multilayer_perceptron.py:696: ConvergenceWarning: Stochastic Optimizer: Maximum iterations (1000) reached and the optimization hasn't converged yet.\n",
            "  ConvergenceWarning,\n"
          ]
        },
        {
          "data": {
            "text/plain": [
              "0.14118251928020564"
            ]
          },
          "execution_count": 26,
          "metadata": {},
          "output_type": "execute_result"
        }
      ]
    },
    {
      "cell_type": "markdown",
      "metadata": {
        "id": "oO__7Kgcdfjd"
      },
      "source": [
        "## Second stab at improving model"
      ]
    },
    {
      "cell_type": "code",
      "metadata": {
        "colab": {
          "base_uri": "https://localhost:8080/"
        },
        "id": "mMLusFdXZge7",
        "outputId": "90573445-27b4-4684-cc59-1ed107c8cb5d"
      },
      "source": [
        "import pandas as pd\n",
        "\n",
        "df = pd.read_csv('/content/drive/MyDrive/Colab Notebooks/Data/12_topics_df.csv')\n",
        "df.shape"
      ],
      "execution_count": null,
      "outputs": [
        {
          "output_type": "execute_result",
          "data": {
            "text/plain": [
              "(48625, 22)"
            ]
          },
          "metadata": {},
          "execution_count": 23
        }
      ]
    },
    {
      "cell_type": "code",
      "metadata": {
        "colab": {
          "base_uri": "https://localhost:8080/",
          "height": 206
        },
        "id": "YMbwC3qSaOln",
        "outputId": "6b637124-5e97-43b3-e718-f0a5da4b3274"
      },
      "source": [
        "df_test = df.copy()\n",
        "\n",
        "df_test.drop(columns=['Unnamed: 0', 'day_week', 'text', 'id'], inplace=True)\n",
        "df_test.head()"
      ],
      "execution_count": null,
      "outputs": [
        {
          "output_type": "execute_result",
          "data": {
            "text/html": [
              "<div>\n",
              "<style scoped>\n",
              "    .dataframe tbody tr th:only-of-type {\n",
              "        vertical-align: middle;\n",
              "    }\n",
              "\n",
              "    .dataframe tbody tr th {\n",
              "        vertical-align: top;\n",
              "    }\n",
              "\n",
              "    .dataframe thead th {\n",
              "        text-align: right;\n",
              "    }\n",
              "</style>\n",
              "<table border=\"1\" class=\"dataframe\">\n",
              "  <thead>\n",
              "    <tr style=\"text-align: right;\">\n",
              "      <th></th>\n",
              "      <th>retweets</th>\n",
              "      <th>likes</th>\n",
              "      <th>replies</th>\n",
              "      <th>quotes</th>\n",
              "      <th>time_day</th>\n",
              "      <th>author_name</th>\n",
              "      <th>topic_1</th>\n",
              "      <th>topic_2</th>\n",
              "      <th>topic_3</th>\n",
              "      <th>topic_4</th>\n",
              "      <th>topic_5</th>\n",
              "      <th>topic_6</th>\n",
              "      <th>topic_7</th>\n",
              "      <th>topic_8</th>\n",
              "      <th>topic_9</th>\n",
              "      <th>topic_10</th>\n",
              "      <th>topic_11</th>\n",
              "      <th>topic_12</th>\n",
              "    </tr>\n",
              "  </thead>\n",
              "  <tbody>\n",
              "    <tr>\n",
              "      <th>0</th>\n",
              "      <td>7</td>\n",
              "      <td>9</td>\n",
              "      <td>8</td>\n",
              "      <td>1</td>\n",
              "      <td>17</td>\n",
              "      <td>SenShelby</td>\n",
              "      <td>0.0</td>\n",
              "      <td>0.144758</td>\n",
              "      <td>0.225497</td>\n",
              "      <td>0.075525</td>\n",
              "      <td>0.079278</td>\n",
              "      <td>0.000000</td>\n",
              "      <td>0.075555</td>\n",
              "      <td>0.000000</td>\n",
              "      <td>0.000000</td>\n",
              "      <td>0.144074</td>\n",
              "      <td>0.000000</td>\n",
              "      <td>0.227535</td>\n",
              "    </tr>\n",
              "    <tr>\n",
              "      <th>1</th>\n",
              "      <td>8</td>\n",
              "      <td>27</td>\n",
              "      <td>13</td>\n",
              "      <td>4</td>\n",
              "      <td>17</td>\n",
              "      <td>SenShelby</td>\n",
              "      <td>0.0</td>\n",
              "      <td>0.100358</td>\n",
              "      <td>0.000000</td>\n",
              "      <td>0.000000</td>\n",
              "      <td>0.000000</td>\n",
              "      <td>0.077381</td>\n",
              "      <td>0.000000</td>\n",
              "      <td>0.000000</td>\n",
              "      <td>0.000000</td>\n",
              "      <td>0.000000</td>\n",
              "      <td>0.691082</td>\n",
              "      <td>0.083559</td>\n",
              "    </tr>\n",
              "    <tr>\n",
              "      <th>2</th>\n",
              "      <td>3</td>\n",
              "      <td>16</td>\n",
              "      <td>7</td>\n",
              "      <td>0</td>\n",
              "      <td>23</td>\n",
              "      <td>SenShelby</td>\n",
              "      <td>0.0</td>\n",
              "      <td>0.000000</td>\n",
              "      <td>0.438648</td>\n",
              "      <td>0.141527</td>\n",
              "      <td>0.000000</td>\n",
              "      <td>0.000000</td>\n",
              "      <td>0.000000</td>\n",
              "      <td>0.255297</td>\n",
              "      <td>0.000000</td>\n",
              "      <td>0.000000</td>\n",
              "      <td>0.127490</td>\n",
              "      <td>0.000000</td>\n",
              "    </tr>\n",
              "    <tr>\n",
              "      <th>3</th>\n",
              "      <td>37</td>\n",
              "      <td>99</td>\n",
              "      <td>43</td>\n",
              "      <td>4</td>\n",
              "      <td>23</td>\n",
              "      <td>SenShelby</td>\n",
              "      <td>0.0</td>\n",
              "      <td>0.000000</td>\n",
              "      <td>0.000000</td>\n",
              "      <td>0.302265</td>\n",
              "      <td>0.067809</td>\n",
              "      <td>0.446784</td>\n",
              "      <td>0.000000</td>\n",
              "      <td>0.076651</td>\n",
              "      <td>0.000000</td>\n",
              "      <td>0.070031</td>\n",
              "      <td>0.000000</td>\n",
              "      <td>0.000000</td>\n",
              "    </tr>\n",
              "    <tr>\n",
              "      <th>4</th>\n",
              "      <td>7</td>\n",
              "      <td>21</td>\n",
              "      <td>19</td>\n",
              "      <td>2</td>\n",
              "      <td>22</td>\n",
              "      <td>SenShelby</td>\n",
              "      <td>0.0</td>\n",
              "      <td>0.078750</td>\n",
              "      <td>0.000000</td>\n",
              "      <td>0.000000</td>\n",
              "      <td>0.000000</td>\n",
              "      <td>0.062978</td>\n",
              "      <td>0.000000</td>\n",
              "      <td>0.000000</td>\n",
              "      <td>0.064142</td>\n",
              "      <td>0.000000</td>\n",
              "      <td>0.757093</td>\n",
              "      <td>0.000000</td>\n",
              "    </tr>\n",
              "  </tbody>\n",
              "</table>\n",
              "</div>"
            ],
            "text/plain": [
              "   retweets  likes  replies  quotes  ...   topic_9  topic_10  topic_11  topic_12\n",
              "0         7      9        8       1  ...  0.000000  0.144074  0.000000  0.227535\n",
              "1         8     27       13       4  ...  0.000000  0.000000  0.691082  0.083559\n",
              "2         3     16        7       0  ...  0.000000  0.000000  0.127490  0.000000\n",
              "3        37     99       43       4  ...  0.000000  0.070031  0.000000  0.000000\n",
              "4         7     21       19       2  ...  0.064142  0.000000  0.757093  0.000000\n",
              "\n",
              "[5 rows x 18 columns]"
            ]
          },
          "metadata": {},
          "execution_count": 25
        }
      ]
    },
    {
      "cell_type": "code",
      "metadata": {
        "colab": {
          "base_uri": "https://localhost:8080/",
          "height": 206
        },
        "id": "cTrEmCysr92c",
        "outputId": "22d595c4-97b6-4399-d613-ee4530392d3b"
      },
      "source": [
        "X = df_test.drop(columns=['author_name'])\n",
        "X = X[X.columns[:-6]]\n",
        "y = df_test['author_name']\n",
        "\n",
        "X['author_name'] = y\n",
        "\n",
        "X.head()\n"
      ],
      "execution_count": null,
      "outputs": [
        {
          "output_type": "execute_result",
          "data": {
            "text/html": [
              "<div>\n",
              "<style scoped>\n",
              "    .dataframe tbody tr th:only-of-type {\n",
              "        vertical-align: middle;\n",
              "    }\n",
              "\n",
              "    .dataframe tbody tr th {\n",
              "        vertical-align: top;\n",
              "    }\n",
              "\n",
              "    .dataframe thead th {\n",
              "        text-align: right;\n",
              "    }\n",
              "</style>\n",
              "<table border=\"1\" class=\"dataframe\">\n",
              "  <thead>\n",
              "    <tr style=\"text-align: right;\">\n",
              "      <th></th>\n",
              "      <th>retweets</th>\n",
              "      <th>likes</th>\n",
              "      <th>replies</th>\n",
              "      <th>quotes</th>\n",
              "      <th>time_day</th>\n",
              "      <th>topic_1</th>\n",
              "      <th>topic_2</th>\n",
              "      <th>topic_3</th>\n",
              "      <th>topic_4</th>\n",
              "      <th>topic_5</th>\n",
              "      <th>topic_6</th>\n",
              "      <th>author_name</th>\n",
              "    </tr>\n",
              "  </thead>\n",
              "  <tbody>\n",
              "    <tr>\n",
              "      <th>0</th>\n",
              "      <td>7</td>\n",
              "      <td>9</td>\n",
              "      <td>8</td>\n",
              "      <td>1</td>\n",
              "      <td>17</td>\n",
              "      <td>0.0</td>\n",
              "      <td>0.144758</td>\n",
              "      <td>0.225497</td>\n",
              "      <td>0.075525</td>\n",
              "      <td>0.079278</td>\n",
              "      <td>0.000000</td>\n",
              "      <td>SenShelby</td>\n",
              "    </tr>\n",
              "    <tr>\n",
              "      <th>1</th>\n",
              "      <td>8</td>\n",
              "      <td>27</td>\n",
              "      <td>13</td>\n",
              "      <td>4</td>\n",
              "      <td>17</td>\n",
              "      <td>0.0</td>\n",
              "      <td>0.100358</td>\n",
              "      <td>0.000000</td>\n",
              "      <td>0.000000</td>\n",
              "      <td>0.000000</td>\n",
              "      <td>0.077381</td>\n",
              "      <td>SenShelby</td>\n",
              "    </tr>\n",
              "    <tr>\n",
              "      <th>2</th>\n",
              "      <td>3</td>\n",
              "      <td>16</td>\n",
              "      <td>7</td>\n",
              "      <td>0</td>\n",
              "      <td>23</td>\n",
              "      <td>0.0</td>\n",
              "      <td>0.000000</td>\n",
              "      <td>0.438648</td>\n",
              "      <td>0.141527</td>\n",
              "      <td>0.000000</td>\n",
              "      <td>0.000000</td>\n",
              "      <td>SenShelby</td>\n",
              "    </tr>\n",
              "    <tr>\n",
              "      <th>3</th>\n",
              "      <td>37</td>\n",
              "      <td>99</td>\n",
              "      <td>43</td>\n",
              "      <td>4</td>\n",
              "      <td>23</td>\n",
              "      <td>0.0</td>\n",
              "      <td>0.000000</td>\n",
              "      <td>0.000000</td>\n",
              "      <td>0.302265</td>\n",
              "      <td>0.067809</td>\n",
              "      <td>0.446784</td>\n",
              "      <td>SenShelby</td>\n",
              "    </tr>\n",
              "    <tr>\n",
              "      <th>4</th>\n",
              "      <td>7</td>\n",
              "      <td>21</td>\n",
              "      <td>19</td>\n",
              "      <td>2</td>\n",
              "      <td>22</td>\n",
              "      <td>0.0</td>\n",
              "      <td>0.078750</td>\n",
              "      <td>0.000000</td>\n",
              "      <td>0.000000</td>\n",
              "      <td>0.000000</td>\n",
              "      <td>0.062978</td>\n",
              "      <td>SenShelby</td>\n",
              "    </tr>\n",
              "  </tbody>\n",
              "</table>\n",
              "</div>"
            ],
            "text/plain": [
              "   retweets  likes  replies  quotes  ...   topic_4   topic_5   topic_6  author_name\n",
              "0         7      9        8       1  ...  0.075525  0.079278  0.000000    SenShelby\n",
              "1         8     27       13       4  ...  0.000000  0.000000  0.077381    SenShelby\n",
              "2         3     16        7       0  ...  0.141527  0.000000  0.000000    SenShelby\n",
              "3        37     99       43       4  ...  0.302265  0.067809  0.446784    SenShelby\n",
              "4         7     21       19       2  ...  0.000000  0.000000  0.062978    SenShelby\n",
              "\n",
              "[5 rows x 12 columns]"
            ]
          },
          "metadata": {},
          "execution_count": 32
        }
      ]
    },
    {
      "cell_type": "code",
      "metadata": {
        "colab": {
          "base_uri": "https://localhost:8080/",
          "height": 226
        },
        "id": "JyFDV5Oza-rI",
        "outputId": "568b7574-99ad-49aa-ad68-f7e0bb5fff21"
      },
      "source": [
        "def bin_time(row):\n",
        "    if row['time_day'] >= 0 and row['time_day'] < 7:\n",
        "        return 'midnight'\n",
        "    if row['time_day'] >= 7 and row['time_day'] < 12:\n",
        "        return 'morning'\n",
        "    if row['time_day'] >= 12 and row['time_day'] < 18:\n",
        "        return 'afternoon'\n",
        "    return 'night'\n",
        "\n",
        "df_bin = df_test.copy()\n",
        "df_bin['time_day'] = df_bin.apply(lambda row: bin_time(row), axis=1)\n",
        "\n",
        "df_bin.head()"
      ],
      "execution_count": null,
      "outputs": [
        {
          "data": {
            "text/html": [
              "<div>\n",
              "<style scoped>\n",
              "    .dataframe tbody tr th:only-of-type {\n",
              "        vertical-align: middle;\n",
              "    }\n",
              "\n",
              "    .dataframe tbody tr th {\n",
              "        vertical-align: top;\n",
              "    }\n",
              "\n",
              "    .dataframe thead th {\n",
              "        text-align: right;\n",
              "    }\n",
              "</style>\n",
              "<table border=\"1\" class=\"dataframe\">\n",
              "  <thead>\n",
              "    <tr style=\"text-align: right;\">\n",
              "      <th></th>\n",
              "      <th>id</th>\n",
              "      <th>retweets</th>\n",
              "      <th>likes</th>\n",
              "      <th>replies</th>\n",
              "      <th>quotes</th>\n",
              "      <th>time_day</th>\n",
              "      <th>author_name</th>\n",
              "      <th>topic_1</th>\n",
              "      <th>topic_2</th>\n",
              "      <th>topic_3</th>\n",
              "      <th>topic_4</th>\n",
              "      <th>topic_5</th>\n",
              "      <th>topic_6</th>\n",
              "      <th>topic_7</th>\n",
              "      <th>topic_8</th>\n",
              "      <th>topic_9</th>\n",
              "      <th>topic_10</th>\n",
              "      <th>topic_11</th>\n",
              "      <th>topic_12</th>\n",
              "    </tr>\n",
              "  </thead>\n",
              "  <tbody>\n",
              "    <tr>\n",
              "      <th>0</th>\n",
              "      <td>1461387699345145856</td>\n",
              "      <td>7</td>\n",
              "      <td>9</td>\n",
              "      <td>8</td>\n",
              "      <td>1</td>\n",
              "      <td>afternoon</td>\n",
              "      <td>SenShelby</td>\n",
              "      <td>0.0</td>\n",
              "      <td>0.144758</td>\n",
              "      <td>0.225497</td>\n",
              "      <td>0.075525</td>\n",
              "      <td>0.079278</td>\n",
              "      <td>0.000000</td>\n",
              "      <td>0.075555</td>\n",
              "      <td>0.000000</td>\n",
              "      <td>0.000000</td>\n",
              "      <td>0.144074</td>\n",
              "      <td>0.000000</td>\n",
              "      <td>0.227535</td>\n",
              "    </tr>\n",
              "    <tr>\n",
              "      <th>1</th>\n",
              "      <td>1461387697914888193</td>\n",
              "      <td>8</td>\n",
              "      <td>27</td>\n",
              "      <td>13</td>\n",
              "      <td>4</td>\n",
              "      <td>afternoon</td>\n",
              "      <td>SenShelby</td>\n",
              "      <td>0.0</td>\n",
              "      <td>0.100358</td>\n",
              "      <td>0.000000</td>\n",
              "      <td>0.000000</td>\n",
              "      <td>0.000000</td>\n",
              "      <td>0.077381</td>\n",
              "      <td>0.000000</td>\n",
              "      <td>0.000000</td>\n",
              "      <td>0.000000</td>\n",
              "      <td>0.000000</td>\n",
              "      <td>0.691082</td>\n",
              "      <td>0.083559</td>\n",
              "    </tr>\n",
              "    <tr>\n",
              "      <th>2</th>\n",
              "      <td>1461113415418662920</td>\n",
              "      <td>3</td>\n",
              "      <td>16</td>\n",
              "      <td>7</td>\n",
              "      <td>0</td>\n",
              "      <td>night</td>\n",
              "      <td>SenShelby</td>\n",
              "      <td>0.0</td>\n",
              "      <td>0.000000</td>\n",
              "      <td>0.438648</td>\n",
              "      <td>0.141527</td>\n",
              "      <td>0.000000</td>\n",
              "      <td>0.000000</td>\n",
              "      <td>0.000000</td>\n",
              "      <td>0.255297</td>\n",
              "      <td>0.000000</td>\n",
              "      <td>0.000000</td>\n",
              "      <td>0.127490</td>\n",
              "      <td>0.000000</td>\n",
              "    </tr>\n",
              "    <tr>\n",
              "      <th>3</th>\n",
              "      <td>1460749779647012868</td>\n",
              "      <td>37</td>\n",
              "      <td>99</td>\n",
              "      <td>43</td>\n",
              "      <td>4</td>\n",
              "      <td>night</td>\n",
              "      <td>SenShelby</td>\n",
              "      <td>0.0</td>\n",
              "      <td>0.000000</td>\n",
              "      <td>0.000000</td>\n",
              "      <td>0.302265</td>\n",
              "      <td>0.067809</td>\n",
              "      <td>0.446784</td>\n",
              "      <td>0.000000</td>\n",
              "      <td>0.076651</td>\n",
              "      <td>0.000000</td>\n",
              "      <td>0.070031</td>\n",
              "      <td>0.000000</td>\n",
              "      <td>0.000000</td>\n",
              "    </tr>\n",
              "    <tr>\n",
              "      <th>4</th>\n",
              "      <td>1460744180565688323</td>\n",
              "      <td>7</td>\n",
              "      <td>21</td>\n",
              "      <td>19</td>\n",
              "      <td>2</td>\n",
              "      <td>night</td>\n",
              "      <td>SenShelby</td>\n",
              "      <td>0.0</td>\n",
              "      <td>0.078750</td>\n",
              "      <td>0.000000</td>\n",
              "      <td>0.000000</td>\n",
              "      <td>0.000000</td>\n",
              "      <td>0.062978</td>\n",
              "      <td>0.000000</td>\n",
              "      <td>0.000000</td>\n",
              "      <td>0.064142</td>\n",
              "      <td>0.000000</td>\n",
              "      <td>0.757093</td>\n",
              "      <td>0.000000</td>\n",
              "    </tr>\n",
              "  </tbody>\n",
              "</table>\n",
              "</div>"
            ],
            "text/plain": [
              "                    id  retweets  likes  ...  topic_10  topic_11  topic_12\n",
              "0  1461387699345145856         7      9  ...  0.144074  0.000000  0.227535\n",
              "1  1461387697914888193         8     27  ...  0.000000  0.691082  0.083559\n",
              "2  1461113415418662920         3     16  ...  0.000000  0.127490  0.000000\n",
              "3  1460749779647012868        37     99  ...  0.070031  0.000000  0.000000\n",
              "4  1460744180565688323         7     21  ...  0.000000  0.757093  0.000000\n",
              "\n",
              "[5 rows x 19 columns]"
            ]
          },
          "execution_count": 29,
          "metadata": {},
          "output_type": "execute_result"
        }
      ]
    },
    {
      "cell_type": "markdown",
      "metadata": {
        "id": "WlEHZk21lW_i"
      },
      "source": [
        "Dummy encoding categorical"
      ]
    },
    {
      "cell_type": "code",
      "metadata": {
        "id": "KaynYO6Cb-vu"
      },
      "source": [
        "# Run scikit learn MLP model on the new dataset\n",
        "from sklearn.neural_network import MLPClassifier\n",
        "from sklearn.model_selection import train_test_split\n",
        "from sklearn import preprocessing\n",
        "from sklearn.preprocessing import MinMaxScaler\n",
        "from sklearn.preprocessing import StandardScaler\n",
        "\n",
        "# Copy dataframe\n",
        "df_topics_mlp = df_bin.copy()\n",
        "\n",
        "# Dummy encode the categorical variables \n",
        "for col in df_topics_mlp:\n",
        "  if col != 'author_name':\n",
        "    if not pd.api.types.is_numeric_dtype(df_topics_mlp[col]):\n",
        "      df_topics_mlp = pd.get_dummies(df_topics_mlp, columns=[col], drop_first=True)\n",
        "\n",
        "\n",
        "# Split features and label\n",
        "X = df_topics_mlp.drop(columns=['id', 'author_name']) # keep day_week and time_day in future models\n",
        "y = df_topics_mlp['author_name']\n"
      ],
      "execution_count": null,
      "outputs": []
    },
    {
      "cell_type": "markdown",
      "metadata": {
        "id": "str49adclZU3"
      },
      "source": [
        "Not dummy encoding"
      ]
    },
    {
      "cell_type": "code",
      "metadata": {
        "id": "bGU6-ljFlccI"
      },
      "source": [
        "# Run scikit learn MLP model on the new dataset\n",
        "from sklearn.neural_network import MLPClassifier\n",
        "from sklearn.model_selection import train_test_split\n",
        "from sklearn import preprocessing\n",
        "from sklearn.preprocessing import MinMaxScaler\n",
        "from sklearn.preprocessing import StandardScaler\n",
        "\n",
        "# Copy dataframe\n",
        "df_topics_mlp = df_bin.copy()\n",
        "\n",
        "# Dummy encode the categorical variables \n",
        "# for col in df_topics_mlp:\n",
        "#   if col != 'author_name':\n",
        "#     if not pd.api.types.is_numeric_dtype(df_topics_mlp[col]):\n",
        "#       df_topics_mlp = pd.get_dummies(df_topics_mlp, columns=[col], drop_first=True)\n",
        "\n",
        "\n",
        "# Split features and label\n",
        "X = df_topics_mlp.drop(columns=['id', 'author_name', 'time_day']) # keep day_week and time_day in future models\n",
        "y = df_topics_mlp['author_name']"
      ],
      "execution_count": null,
      "outputs": []
    },
    {
      "cell_type": "code",
      "metadata": {
        "colab": {
          "base_uri": "https://localhost:8080/"
        },
        "id": "1CHDNNYpk8R0",
        "outputId": "1889850a-36cb-4a8b-c2c9-06baa2e22371"
      },
      "source": [
        "# Normailze dataframe\n",
        "scaler = preprocessing.StandardScaler().fit(X)\n",
        "X_normalized = scaler.transform(X)\n",
        "\n",
        "\n",
        "# Min max normalization\n",
        "min_max_scaler = preprocessing.MinMaxScaler()\n",
        "X_min_max = min_max_scaler.fit_transform(X)\n",
        "\n",
        "# Split and train MLP\n",
        "# X_train, X_test, y_train, y_test = train_test_split(X_normalized, y, test_size=0.2) # gaussian\n",
        "X_train, X_test, y_train, y_test = train_test_split(X_min_max, y, test_size=0.2) # min max\n",
        "# clf = MLPClassifier(max_iter=300).fit(X_train, y_train)\n",
        "clf = MLPClassifier(learning_rate='constant', learning_rate_init=0.15, hidden_layer_sizes=(60), momentum=0.65, activation='relu', max_iter=500,\n",
        "                       n_iter_no_change=20, solver='sgd').fit(X_train, y_train)\n",
        "clf.score(X_test, y_test)"
      ],
      "execution_count": null,
      "outputs": [
        {
          "data": {
            "text/plain": [
              "0.06570694087403599"
            ]
          },
          "execution_count": 59,
          "metadata": {},
          "output_type": "execute_result"
        }
      ]
    },
    {
      "cell_type": "code",
      "metadata": {
        "colab": {
          "base_uri": "https://localhost:8080/"
        },
        "id": "iUZPUpxFicOu",
        "outputId": "ca02b971-2600-4b03-d73c-0c7eb1bc1f76"
      },
      "source": [
        "from sklearn.neighbors import KNeighborsClassifier\n",
        "from sklearn import metrics\n",
        "import matplotlib.pyplot as plt\n",
        "import numpy as np\n",
        "from sklearn.preprocessing import MinMaxScaler\n",
        "\n",
        "X_min_max = pd.DataFrame(MinMaxScaler().fit_transform(X))\n",
        "\n",
        "X_train, X_test, y_train, y_test = train_test_split(X_min_max, y, test_size=0.2)\n",
        "\n",
        "knn = KNeighborsClassifier(n_neighbors=25, weights='distance')\n",
        "knn.fit(X_train, y_train)\n",
        "y_pred = knn.predict(X_test)\n",
        "score = metrics.accuracy_score(y_test, y_pred)\n",
        "print(f'Accuracy: \\t {round(score, 5)*100}%')"
      ],
      "execution_count": null,
      "outputs": [
        {
          "name": "stdout",
          "output_type": "stream",
          "text": [
            "Accuracy: \t 3.157%\n"
          ]
        }
      ]
    },
    {
      "cell_type": "code",
      "metadata": {
        "colab": {
          "base_uri": "https://localhost:8080/"
        },
        "id": "l64D0awAiu5r",
        "outputId": "d5d49b4b-cca4-4d2a-dda0-96f7a2d40bfe"
      },
      "source": [
        "from sklearn.svm import SVC\n",
        "\n",
        "# X_train, X_test, y_train, y_test = train_test_split(X_min_max, y, test_size=0.2)\n",
        "X_train, X_test, y_train, y_test = train_test_split(X, y, test_size=0.2)\n",
        "\n",
        "SVC_model = SVC()\n",
        "SVC_model.fit(X_train, y_train)\n",
        "SVC_prediction = SVC_model.predict(X_test)\n",
        "print(metrics.accuracy_score(SVC_prediction, y_test))"
      ],
      "execution_count": null,
      "outputs": [
        {
          "name": "stdout",
          "output_type": "stream",
          "text": [
            "0.0458611825192802\n"
          ]
        }
      ]
    },
    {
      "cell_type": "code",
      "metadata": {
        "colab": {
          "base_uri": "https://localhost:8080/"
        },
        "id": "vKoW0_GsjMmD",
        "outputId": "93038bd3-5453-4626-bc0f-88f239d2b9f2"
      },
      "source": [
        "from sklearn import tree\n",
        "from sklearn.model_selection import train_test_split\n",
        "\n",
        "X_train, X_test, y_train, y_test = train_test_split(X, y, test_size=0.2)\n",
        "\n",
        "clf_sk = tree.DecisionTreeClassifier(criterion='entropy', min_samples_leaf=2, min_impurity_decrease=.0001)\n",
        "\n",
        "clf_sk = clf_sk.fit(X_train, y_train)\n",
        "\n",
        "accuracy = clf_sk.score(X_test, y_test)\n",
        "print(f'Accuracy of model: {round(accuracy,6)*100}%')"
      ],
      "execution_count": null,
      "outputs": [
        {
          "name": "stdout",
          "output_type": "stream",
          "text": [
            "Accuracy of model: 8.390699999999999%\n"
          ]
        }
      ]
    },
    {
      "cell_type": "code",
      "metadata": {
        "colab": {
          "base_uri": "https://localhost:8080/"
        },
        "id": "SFLjhTi7jqNW",
        "outputId": "dd8de691-5a92-42c6-8712-b43cca1e2f75"
      },
      "source": [
        "from sklearn.ensemble import RandomForestClassifier\n",
        "\n",
        "# clf = RandomForestClassifier(n_estimators=10, criterion='entropy', min_samples_leaf=5, min_impurity_decrease=.0001)\n",
        "clf = RandomForestClassifier(n_estimators=10)\n",
        "clf.fit(X_train, y_train)\n",
        "accuracy = clf.score(X_test, y_test)\n",
        "print(f'Accuracy of model: {round(accuracy,6)*100}%')"
      ],
      "execution_count": null,
      "outputs": [
        {
          "name": "stdout",
          "output_type": "stream",
          "text": [
            "Accuracy of model: 10.539800000000001%\n"
          ]
        }
      ]
    },
    {
      "cell_type": "markdown",
      "metadata": {
        "id": "GiYKXxAxZjVG"
      },
      "source": [
        "# Automating Pipeline to test models"
      ]
    },
    {
      "cell_type": "markdown",
      "metadata": {
        "id": "WNWn-FYTZq5n"
      },
      "source": [
        "## Pipeline Methods"
      ]
    },
    {
      "cell_type": "code",
      "metadata": {
        "id": "gDuSk45VZmNI"
      },
      "source": [
        "# Data Processing Methods\n",
        "\n",
        "def get_data(url, col_drop):\n",
        "  import pandas as pd\n",
        "  pd.set_option('display.max_columns', 20)\n",
        "  df = pd.read_csv(url)\n",
        "  for col in col_drop:\n",
        "    try:\n",
        "      df.drop(columns=col, inplace=True)\n",
        "    except:\n",
        "      pass\n",
        "  return df\n",
        "\n",
        "def drop_missing_columns(df, cutoff=0.55):\n",
        "  import pandas as pd\n",
        "  for col in df:\n",
        "    if (df[col].isna().sum() / len(df)) >= cutoff:\n",
        "      df.drop(columns=[col], inplace=True)\n",
        "  return df\n",
        "\n",
        "\n",
        "def binning_categorical(df, cutoff=0.10):\n",
        "  import pandas as pd\n",
        "\n",
        "  for col in df:\n",
        "    if not pd.api.types.is_numeric_dtype(df[col]):\n",
        "      for group, count in df[col].value_counts().iteritems():\n",
        "        if count/len(df) < cutoff:\n",
        "          df.loc[df[col] == group, col] = 'Other'\n",
        "  return df\n",
        "\n",
        "\n",
        "def bin_time(row):\n",
        "    if row['time_day'] >= 0 and row['time_day'] < 7:\n",
        "        return 'midnight'\n",
        "    if row['time_day'] >= 7 and row['time_day'] < 12:\n",
        "        return 'morning'\n",
        "    if row['time_day'] >= 12 and row['time_day'] < 18:\n",
        "        return 'afternoon'\n",
        "    return 'night'\n",
        "\n",
        "\n",
        "def dummy_encode(df):\n",
        "  import pandas as pd\n",
        "  for col in df:\n",
        "    if col != 'author_name':\n",
        "      if not pd.api.types.is_numeric_dtype(df[col]):\n",
        "        return pd.get_dummies(df, columns=[col], drop_first=True)\n",
        "\n",
        "\n",
        "def fix_time_day(df, column):\n",
        "  df[column] = df.apply(lambda row: bin_time(row), axis=1)\n",
        "  return df\n",
        "\n",
        "\n",
        "def min_max_normalization(X):\n",
        "  # Min max normalization\n",
        "  from sklearn.preprocessing import MinMaxScaler\n",
        "  from sklearn import preprocessing\n",
        "\n",
        "  min_max_scaler = preprocessing.MinMaxScaler()\n",
        "  return min_max_scaler.fit_transform(X)\n",
        "\n",
        "\n",
        "def z_score_normalization(X):\n",
        "  # Normailze dataframe\n",
        "  from sklearn.preprocessing import StandardScaler\n",
        "  from sklearn import preprocessing\n",
        "\n",
        "  scaler = preprocessing.StandardScaler().fit(X)\n",
        "  return scaler.transform(X)\n",
        "\n"
      ],
      "execution_count": null,
      "outputs": []
    },
    {
      "cell_type": "code",
      "metadata": {
        "id": "K7_3latReUMg"
      },
      "source": [
        "# Algorithms\n",
        "\n",
        "def try_models(X,y):\n",
        "  from sklearn.model_selection import train_test_split\n",
        "  from sklearn import preprocessing\n",
        "  from sklearn import metrics\n",
        "\n",
        "  X_train, X_test, y_train, y_test = train_test_split(X, y, test_size=0.2)\n",
        "\n",
        "  fit = {}\n",
        "\n",
        "  print('Trying MLP model')\n",
        "  from sklearn.neural_network import MLPClassifier\n",
        "  # mlp = MLPClassifier(learning_rate='constant', learning_rate_init=0.05, hidden_layer_sizes=(20), momentum=0.9, activation='relu', max_iter=1500,\n",
        "  #                      n_iter_no_change=20, solver='sgd').fit(X_train, y_train)\n",
        "  mlp = MLPClassifier(max_iter=500).fit(X_train, y_train)\n",
        "  fit['MLP'] = [mlp.score(X_test, y_test), mlp]\n",
        "\n",
        "\n",
        "  print('Trying KNN model')\n",
        "  from sklearn.neighbors import KNeighborsClassifier\n",
        "  knn = KNeighborsClassifier(n_neighbors=25, weights='distance')\n",
        "  knn.fit(X_train, y_train)\n",
        "  y_pred = knn.predict(X_test)\n",
        "  fit['KNN'] = [metrics.accuracy_score(y_test, y_pred), knn]\n",
        "\n",
        "\n",
        "  print('Trying SVC model')\n",
        "  from sklearn.svm import SVC\n",
        "  SVC_model = SVC()\n",
        "  SVC_model.fit(X_train, y_train)\n",
        "  SVC_prediction = SVC_model.predict(X_test)\n",
        "  fit['SVC'] = [metrics.accuracy_score(SVC_prediction, y_test), SVC_model]\n",
        "\n",
        "\n",
        "  print('Trying Decision Tree model')\n",
        "  from sklearn import tree\n",
        "  from sklearn.model_selection import train_test_split\n",
        "  DT_clf = tree.DecisionTreeClassifier(criterion='entropy', min_samples_leaf=2, min_impurity_decrease=.0001)  \n",
        "  DT_clf.fit(X_train, y_train)\n",
        "  fit['DecisionTree'] = [DT_clf.score(X_test, y_test), DT_clf]\n",
        "\n",
        "\n",
        "  print('Trying Random Forest model\\n')\n",
        "  from sklearn.ensemble import RandomForestClassifier\n",
        "  RFC = RandomForestClassifier(n_estimators=10)\n",
        "  RFC.fit(X_train, y_train)\n",
        "  fit['RandomForest'] = [RFC.score(X_test, y_test), RFC]\n",
        "\n",
        "  return fit\n"
      ],
      "execution_count": null,
      "outputs": []
    },
    {
      "cell_type": "markdown",
      "metadata": {
        "id": "WEGAQyyhkp8r"
      },
      "source": [
        "## Running Pipeling and Testing Models"
      ]
    },
    {
      "cell_type": "code",
      "metadata": {
        "id": "63DUhHH-gj9Z"
      },
      "source": [
        "# Paths of diff datasets\n",
        "\n",
        "# /content/drive/MyDrive/Colab Notebooks/Data/6topics_data.csv\n",
        "# /content/drive/MyDrive/Colab Notebooks/Data/10_topics_df.csv\n",
        "# /content/drive/MyDrive/Colab Notebooks/Data/12_topics_df.csv\n"
      ],
      "execution_count": null,
      "outputs": []
    },
    {
      "cell_type": "markdown",
      "metadata": {
        "id": "PpiEryxV_rRf"
      },
      "source": [
        "### 6 Topics\n"
      ]
    },
    {
      "cell_type": "code",
      "metadata": {
        "colab": {
          "base_uri": "https://localhost:8080/"
        },
        "id": "diiWqy-WgBoY",
        "outputId": "e8515095-caf4-4d3a-b541-5b7ffedb193b"
      },
      "source": [
        "# Full test - normalizing min/max - 6 topics\n",
        "\n",
        "df = get_data('/content/drive/MyDrive/Colab Notebooks/Data/6topics_data.csv', col_drop=['text', 'day_week', 'id', 'Unnamed: 0'])\n",
        "df = fix_time_day(df, 'time_day') # binning time of day\n",
        "\n",
        "X = df.drop(columns=['author_name']) # dropping unnecesary columns\n",
        "y = df['author_name']\n",
        "\n",
        "# Bin categorical\n",
        "X = binning_categorical(X)\n",
        "\n",
        "# Dummy encode\n",
        "X = dummy_encode(X)\n",
        "\n",
        "# Deciding to normalize w/ min_max\n",
        "X = min_max_normalization(X)\n",
        "\n",
        "\n",
        "fit = try_models(X, y)\n",
        "\n",
        "accuracy = sorted(fit, key=fit.__getitem__, reverse=True)\n",
        "for acc in accuracy:\n",
        "  print(f'{acc}:\\t{fit[acc][0]}')\n"
      ],
      "execution_count": null,
      "outputs": [
        {
          "output_type": "stream",
          "name": "stdout",
          "text": [
            "Trying MLP model\n"
          ]
        },
        {
          "output_type": "stream",
          "name": "stderr",
          "text": [
            "/usr/local/lib/python3.7/dist-packages/sklearn/neural_network/_multilayer_perceptron.py:696: ConvergenceWarning: Stochastic Optimizer: Maximum iterations (500) reached and the optimization hasn't converged yet.\n",
            "  ConvergenceWarning,\n"
          ]
        },
        {
          "output_type": "stream",
          "name": "stdout",
          "text": [
            "Trying KNN model\n",
            "Trying SVC model\n",
            "Trying Decision Tree model\n",
            "Trying Random Forest model\n",
            "\n",
            "RandomForest:\t0.11187660668380463\n",
            "MLP:\t0.11156812339331619\n",
            "DecisionTree:\t0.08431876606683805\n",
            "SVC:\t0.032287917737789204\n",
            "KNN:\t0.030231362467866323\n"
          ]
        }
      ]
    },
    {
      "cell_type": "code",
      "metadata": {
        "colab": {
          "base_uri": "https://localhost:8080/"
        },
        "id": "ny5YK4tg5sMp",
        "outputId": "3cddf622-9b9c-44a5-ece3-30591425aefe"
      },
      "source": [
        "# Full test - no normalizing - 6 topics\n",
        "\n",
        "df = get_data('/content/drive/MyDrive/Colab Notebooks/Data/6topics_data.csv', col_drop=['text', 'day_week', 'id', 'Unnamed: 0'])\n",
        "df = fix_time_day(df, 'time_day') # binning time of day\n",
        "\n",
        "X = df.drop(columns=['author_name']) # dropping unnecesary columns\n",
        "y = df['author_name']\n",
        "\n",
        "# Bin categorical\n",
        "X = binning_categorical(X)\n",
        "\n",
        "# Dummy encode\n",
        "X = dummy_encode(X)\n",
        "\n",
        "fit = try_models(X, y)\n",
        "\n",
        "accuracy = sorted(fit, key=fit.__getitem__, reverse=True)\n",
        "for acc in accuracy:\n",
        "  print(f'{acc}:\\t{fit[acc][0]}')"
      ],
      "execution_count": null,
      "outputs": [
        {
          "output_type": "stream",
          "name": "stdout",
          "text": [
            "Trying MLP model\n",
            "Trying KNN model\n",
            "Trying SVC model\n",
            "Trying Decision Tree model\n",
            "Trying Random Forest model\n",
            "\n",
            "MLP:\t0.13820051413881748\n",
            "KNN:\t0.11218508997429306\n",
            "RandomForest:\t0.10992287917737789\n",
            "DecisionTree:\t0.0919280205655527\n",
            "SVC:\t0.04596401028277635\n"
          ]
        }
      ]
    },
    {
      "cell_type": "code",
      "metadata": {
        "colab": {
          "base_uri": "https://localhost:8080/"
        },
        "id": "ykVpRGE49ao3",
        "outputId": "36e99816-cb64-4326-ed27-a59f423d0557"
      },
      "source": [
        "# Full test - drop time - 6 topics\n",
        "\n",
        "df = get_data('/content/drive/MyDrive/Colab Notebooks/Data/6topics_data.csv', col_drop=['text', 'day_week', 'id', 'Unnamed: 0', 'time_day'])\n",
        "\n",
        "X = df.drop(columns=['author_name']) # dropping label\n",
        "y = df['author_name']\n",
        "\n",
        "\n",
        "fit = try_models(X, y)\n",
        "\n",
        "accuracy = sorted(fit, key=fit.__getitem__, reverse=True)\n",
        "for acc in accuracy:\n",
        "  print(f'{acc}:\\t{fit[acc][0]}')"
      ],
      "execution_count": null,
      "outputs": [
        {
          "output_type": "stream",
          "name": "stdout",
          "text": [
            "Trying MLP model\n",
            "\n",
            "Trying KNN model\n",
            "\n",
            "Trying SVC model\n",
            "\n",
            "Trying Decision Tree model\n",
            "\n",
            "Trying Random Forest model\n",
            "\n",
            "MLP:\t0.145706940874036\n",
            "KNN:\t0.11146529562982005\n",
            "RandomForest:\t0.10622107969151671\n",
            "DecisionTree:\t0.08966580976863753\n",
            "SVC:\t0.0451413881748072\n"
          ]
        }
      ]
    },
    {
      "cell_type": "markdown",
      "metadata": {
        "id": "70_nKSY3_w0j"
      },
      "source": [
        "### 10 Topics"
      ]
    },
    {
      "cell_type": "code",
      "metadata": {
        "colab": {
          "base_uri": "https://localhost:8080/"
        },
        "id": "4xKU5Ddz_zcn",
        "outputId": "5142249e-df86-4a16-ac00-6aa3f9d11c1c"
      },
      "source": [
        "# Full test - normalizing min/max - 10 topics\n",
        "\n",
        "df = get_data('/content/drive/MyDrive/Colab Notebooks/Data/10_topics_df.csv', col_drop=['text', 'day_week', 'id', 'Unnamed: 0'])\n",
        "df = fix_time_day(df, 'time_day') # binning time of day\n",
        "\n",
        "X = df.drop(columns=['author_name']) # dropping unnecesary columns\n",
        "y = df['author_name']\n",
        "\n",
        "# Bin categorical\n",
        "X = binning_categorical(X)\n",
        "\n",
        "# Dummy encode\n",
        "X = dummy_encode(X)\n",
        "\n",
        "# Deciding to normalize w/ min_max\n",
        "X = min_max_normalization(X)\n",
        "\n",
        "\n",
        "fit = try_models(X, y)\n",
        "\n",
        "accuracy = sorted(fit, key=fit.__getitem__, reverse=True)\n",
        "for acc in accuracy:\n",
        "  print(f'{acc}:\\t{fit[acc][0]}')"
      ],
      "execution_count": null,
      "outputs": [
        {
          "output_type": "stream",
          "name": "stdout",
          "text": [
            "Trying MLP model\n"
          ]
        },
        {
          "output_type": "stream",
          "name": "stderr",
          "text": [
            "/usr/local/lib/python3.7/dist-packages/sklearn/neural_network/_multilayer_perceptron.py:696: ConvergenceWarning: Stochastic Optimizer: Maximum iterations (500) reached and the optimization hasn't converged yet.\n",
            "  ConvergenceWarning,\n"
          ]
        },
        {
          "output_type": "stream",
          "name": "stdout",
          "text": [
            "Trying KNN model\n",
            "Trying SVC model\n",
            "Trying Decision Tree model\n",
            "Trying Random Forest model\n",
            "\n",
            "MLP:\t0.12041131105398457\n",
            "RandomForest:\t0.11074550128534705\n",
            "DecisionTree:\t0.08730077120822623\n",
            "SVC:\t0.03712082262210797\n",
            "KNN:\t0.031773778920308485\n"
          ]
        }
      ]
    },
    {
      "cell_type": "code",
      "metadata": {
        "colab": {
          "base_uri": "https://localhost:8080/"
        },
        "id": "neRk0scd_69J",
        "outputId": "83c1cba4-1892-4aac-ad38-dd9e122a3a8f"
      },
      "source": [
        "# Full test - no normalizing - 10 topics\n",
        "\n",
        "df = get_data('/content/drive/MyDrive/Colab Notebooks/Data/10_topics_df.csv', col_drop=['text', 'day_week', 'id', 'Unnamed: 0'])\n",
        "df = fix_time_day(df, 'time_day') # binning time of day\n",
        "\n",
        "X = df.drop(columns=['author_name']) # dropping unnecesary columns\n",
        "y = df['author_name']\n",
        "\n",
        "# Bin categorical\n",
        "X = binning_categorical(X)\n",
        "\n",
        "# Dummy encode\n",
        "X = dummy_encode(X)\n",
        "\n",
        "fit = try_models(X, y)\n",
        "\n",
        "accuracy = sorted(fit, key=fit.__getitem__, reverse=True)\n",
        "for acc in accuracy:\n",
        "  print(f'{acc}:\\t{fit[acc][0]}')"
      ],
      "execution_count": null,
      "outputs": [
        {
          "output_type": "stream",
          "name": "stdout",
          "text": [
            "Trying MLP model\n",
            "Trying KNN model\n",
            "Trying SVC model\n",
            "Trying Decision Tree model\n",
            "Trying Random Forest model\n",
            "\n",
            "MLP:\t0.13778920308483292\n",
            "KNN:\t0.11033419023136247\n",
            "RandomForest:\t0.10745501285347044\n",
            "DecisionTree:\t0.08133676092544988\n",
            "SVC:\t0.04596401028277635\n"
          ]
        }
      ]
    },
    {
      "cell_type": "code",
      "metadata": {
        "colab": {
          "base_uri": "https://localhost:8080/"
        },
        "id": "QvKp_r6-J4Px",
        "outputId": "11b12305-20f7-4b1f-f287-7f105e55483a"
      },
      "source": [
        "# Full test - drop time - 10 topics\n",
        "\n",
        "df = get_data('/content/drive/MyDrive/Colab Notebooks/Data/10_topics_df.csv', col_drop=['text', 'day_week', 'id', 'Unnamed: 0', 'time_day'])\n",
        "\n",
        "X = df.drop(columns=['author_name']) # dropping label\n",
        "y = df['author_name']\n",
        "\n",
        "\n",
        "fit = try_models(X, y)\n",
        "\n",
        "accuracy = sorted(fit, key=fit.__getitem__, reverse=True)\n",
        "for acc in accuracy:\n",
        "  print(f'{acc}:\\t{fit[acc][0]}')"
      ],
      "execution_count": null,
      "outputs": [
        {
          "output_type": "stream",
          "name": "stdout",
          "text": [
            "Trying MLP model\n",
            "Trying KNN model\n",
            "Trying SVC model\n",
            "Trying Decision Tree model\n",
            "Trying Random Forest model\n",
            "\n",
            "MLP:\t0.14447300771208227\n",
            "KNN:\t0.10796915167095116\n",
            "RandomForest:\t0.10683804627249358\n",
            "DecisionTree:\t0.08637532133676093\n",
            "SVC:\t0.04791773778920309\n"
          ]
        }
      ]
    },
    {
      "cell_type": "markdown",
      "metadata": {
        "id": "zpUJlFn3IVRi"
      },
      "source": [
        "### 12 Topics"
      ]
    },
    {
      "cell_type": "code",
      "metadata": {
        "colab": {
          "base_uri": "https://localhost:8080/"
        },
        "id": "3o6WaL5EIXLK",
        "outputId": "03648520-de7a-45d3-ac0b-17515b4300cc"
      },
      "source": [
        "# Full test - normalizing min/max - 12 topics\n",
        "\n",
        "df = get_data('/content/drive/MyDrive/Colab Notebooks/Data/12_topics_df.csv', col_drop=['text', 'day_week', 'id', 'Unnamed: 0'])\n",
        "df = fix_time_day(df, 'time_day') # binning time of day\n",
        "\n",
        "X = df.drop(columns=['author_name']) # dropping unnecesary columns\n",
        "y = df['author_name']\n",
        "\n",
        "# Bin categorical\n",
        "X = binning_categorical(X)\n",
        "\n",
        "# Dummy encode\n",
        "X = dummy_encode(X)\n",
        "\n",
        "# Deciding to normalize w/ min_max\n",
        "X = min_max_normalization(X)\n",
        "\n",
        "\n",
        "fit = try_models(X, y)\n",
        "\n",
        "accuracy = sorted(fit, key=fit.__getitem__, reverse=True)\n",
        "for acc in accuracy:\n",
        "  print(f'{acc}:\\t{fit[acc][0]}')"
      ],
      "execution_count": null,
      "outputs": [
        {
          "output_type": "stream",
          "name": "stdout",
          "text": [
            "Trying MLP model\n"
          ]
        },
        {
          "output_type": "stream",
          "name": "stderr",
          "text": [
            "/usr/local/lib/python3.7/dist-packages/sklearn/neural_network/_multilayer_perceptron.py:696: ConvergenceWarning: Stochastic Optimizer: Maximum iterations (500) reached and the optimization hasn't converged yet.\n",
            "  ConvergenceWarning,\n"
          ]
        },
        {
          "output_type": "stream",
          "name": "stdout",
          "text": [
            "Trying KNN model\n",
            "Trying SVC model\n",
            "Trying Decision Tree model\n",
            "Trying Random Forest model\n",
            "\n",
            "MLP:\t0.1267866323907455\n",
            "RandomForest:\t0.10889460154241645\n",
            "DecisionTree:\t0.08730077120822623\n",
            "SVC:\t0.042467866323907456\n",
            "KNN:\t0.032082262210796915\n"
          ]
        }
      ]
    },
    {
      "cell_type": "code",
      "metadata": {
        "colab": {
          "base_uri": "https://localhost:8080/"
        },
        "id": "ofira9ntIfD0",
        "outputId": "4373cf36-c651-4691-da6c-4aeb672a0163"
      },
      "source": [
        "# Full test - no normalizing - 12 topics\n",
        "\n",
        "df = get_data('/content/drive/MyDrive/Colab Notebooks/Data/12_topics_df.csv', col_drop=['text', 'day_week', 'id', 'Unnamed: 0'])\n",
        "df = fix_time_day(df, 'time_day') # binning time of day\n",
        "\n",
        "X = df.drop(columns=['author_name']) # dropping unnecesary columns\n",
        "y = df['author_name']\n",
        "\n",
        "# Bin categorical\n",
        "X = binning_categorical(X)\n",
        "\n",
        "# Dummy encode\n",
        "X = dummy_encode(X)\n",
        "\n",
        "fit = try_models(X, y)\n",
        "\n",
        "accuracy = sorted(fit, key=fit.__getitem__, reverse=True)\n",
        "for acc in accuracy:\n",
        "  print(f'{acc}:\\t{fit[acc][0]}')"
      ],
      "execution_count": null,
      "outputs": [
        {
          "output_type": "stream",
          "name": "stdout",
          "text": [
            "Trying MLP model\n",
            "Trying KNN model\n",
            "Trying SVC model\n",
            "Trying Decision Tree model\n",
            "Trying Random Forest model\n",
            "\n",
            "MLP:\t0.15331619537275065\n",
            "KNN:\t0.11712082262210798\n",
            "RandomForest:\t0.1022107969151671\n",
            "DecisionTree:\t0.08760925449871465\n",
            "SVC:\t0.044832904884318764\n"
          ]
        }
      ]
    },
    {
      "cell_type": "code",
      "metadata": {
        "colab": {
          "base_uri": "https://localhost:8080/"
        },
        "id": "JoNKYBnfJ8dy",
        "outputId": "0a8f6dba-a9e4-480b-bc60-c9e629035051"
      },
      "source": [
        "# Full test - drop time - 12 topics\n",
        "\n",
        "df = get_data('/content/drive/MyDrive/Colab Notebooks/Data/12_topics_df.csv', col_drop=['text', 'day_week', 'id', 'Unnamed: 0', 'time_day'])\n",
        "\n",
        "X = df.drop(columns=['author_name']) # dropping label\n",
        "y = df['author_name']\n",
        "\n",
        "\n",
        "fit = try_models(X, y)\n",
        "\n",
        "accuracy = sorted(fit, key=fit.__getitem__, reverse=True)\n",
        "for acc in accuracy:\n",
        "  print(f'{acc}:\\t{fit[acc][0]}')"
      ],
      "execution_count": null,
      "outputs": [
        {
          "output_type": "stream",
          "name": "stdout",
          "text": [
            "Trying MLP model\n",
            "Trying KNN model\n",
            "Trying SVC model\n",
            "Trying Decision Tree model\n",
            "Trying Random Forest model\n",
            "\n",
            "MLP:\t0.15053984575835475\n",
            "KNN:\t0.11300771208226221\n",
            "RandomForest:\t0.10066838046272493\n",
            "DecisionTree:\t0.08647814910025707\n",
            "SVC:\t0.048740359897172236\n"
          ]
        }
      ]
    }
  ]
}